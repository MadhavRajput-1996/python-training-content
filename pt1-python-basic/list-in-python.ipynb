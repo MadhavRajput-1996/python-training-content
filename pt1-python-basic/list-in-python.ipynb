{
 "cells": [
  {
   "cell_type": "markdown",
   "metadata": {},
   "source": [
    "## A list in Python is an ordered, mutable collection of elements. Lists are created using square brackets [] with comma-separated values. Lists can contain elements of different types, including integers, floats, strings, and even other lists."
   ]
  },
  {
   "cell_type": "code",
   "execution_count": null,
   "metadata": {},
   "outputs": [],
   "source": [
    "# Example of list\n",
    "\n",
    "my_list = [1, 2, 3, \"hello\", 4.5]\n",
    "print(my_list)"
   ]
  },
  {
   "cell_type": "markdown",
   "metadata": {},
   "source": [
    "### Mutability\n",
    "- Lists are mutable, meaning their elements can be changed after the list is created.\n",
    "- You can modify individual elements, append new elements, remove elements, and more."
   ]
  },
  {
   "cell_type": "code",
   "execution_count": null,
   "metadata": {},
   "outputs": [],
   "source": [
    "# List Mutability example:\n",
    "\n",
    "my_list[0] = 10\n",
    "print(my_list)  \n"
   ]
  },
  {
   "cell_type": "markdown",
   "metadata": {},
   "source": [
    "### Accessing Elements\n",
    "- Elements in a list are accessed using zero-based indexing.\n",
    "- Negative indices can be used to access elements from the end of the list."
   ]
  },
  {
   "cell_type": "code",
   "execution_count": null,
   "metadata": {},
   "outputs": [],
   "source": [
    "print(my_list[2])   \n",
    "print(my_list[-1]) \n"
   ]
  },
  {
   "cell_type": "markdown",
   "metadata": {},
   "source": [
    "### Slicing\n",
    "- You can access a sublist (slice) of elements using slice notation [start:end:step].\n"
   ]
  },
  {
   "cell_type": "code",
   "execution_count": null,
   "metadata": {},
   "outputs": [],
   "source": [
    "print(my_list[1:4])  # Output: [2, 3, 4]\n",
    "print(my_list[::2])"
   ]
  },
  {
   "cell_type": "markdown",
   "metadata": {},
   "source": [
    "### List Operations\n",
    "**Concatenation:** Lists can be concatenated using the + operator.\n",
    "**Repetition:** Lists can be repeated using the * operator."
   ]
  },
  {
   "cell_type": "code",
   "execution_count": null,
   "metadata": {},
   "outputs": [],
   "source": [
    "new_list = my_list + [6, 7, 8]\n",
    "print(new_list)  \n",
    "\n",
    "repeated_list = my_list * 2\n",
    "print(repeated_list)  \n"
   ]
  },
  {
   "cell_type": "markdown",
   "metadata": {},
   "source": [
    "### List Methods\n",
    "#### Lists come with a variety of built-in methods to manipulate and manage data.\n",
    "\n",
    "#### Common Methods:\n",
    "\n",
    "- **append(x)**: Adds an item to the end of the list.\n",
    "- **extend(iterable)**: Extends the list by appending elements from an iterable.\n",
    "- **insert(i, x)**: Inserts an item at a given position.\n",
    "- **remove(x)**: Removes the first item from the list with the value x.\n",
    "- **pop([i])**: Removes and returns the item at the given position.\n",
    "- **clear()**: Removes all items from the list.\n",
    "- **index(x)**: Returns the index of the first item with value x.\n",
    "- **count(x)**: Returns the count of the number of items with value x.\n",
    "- **sort()**: Sorts the list in ascending order.\n",
    "- **reverse()**: Reverses the elements of the list in place."
   ]
  },
  {
   "cell_type": "code",
   "execution_count": null,
   "metadata": {},
   "outputs": [],
   "source": [
    "lst = [3, 1, 4, 1, 5, 9]\n",
    "lst.append(2)\n",
    "print(lst)  \n",
    "lst.sort()\n",
    "print(lst)"
   ]
  },
  {
   "cell_type": "markdown",
   "metadata": {},
   "source": [
    "### Built-in Functions\n",
    "#### Python provides several built-in functions to work with lists.\n",
    "\n",
    "**len():** Returns the number of elements in the list.\n",
    "**min(), max()**: Return the smallest and largest items in the list, respectively.\n",
    "**sum()**: Returns the sum of all items in the list.\n",
    "**sorted()**: Returns a new list with the elements in sorted order."
   ]
  },
  {
   "cell_type": "code",
   "execution_count": null,
   "metadata": {},
   "outputs": [],
   "source": [
    "numbers = [10, 20, 30, 40]\n",
    "print(len(numbers))  \n",
    "print(min(numbers)) \n",
    "print(sum(numbers))"
   ]
  },
  {
   "cell_type": "markdown",
   "metadata": {},
   "source": [
    "### Types of Lists\n",
    "\n",
    "- Homogeneous List:\n",
    "  homogeneous_list = [1, 2, 3, 4, 5]\n",
    "\n",
    "- Heterogeneous List:\n",
    "  heterogeneous_list = [1, \"two\", 3.0, [4, 5]]"
   ]
  },
  {
   "cell_type": "markdown",
   "metadata": {},
   "source": [
    "### Membership Operators\n",
    "#### Check if an element is in a list using in and not in."
   ]
  },
  {
   "cell_type": "code",
   "execution_count": null,
   "metadata": {},
   "outputs": [],
   "source": [
    "# Exapmle of membership operator\n",
    "\n",
    "fruits = [\"apple\", \"banana\", \"cherry\"]\n",
    "print(\"apple\" in fruits) \n",
    "print(\"grape\" not in fruits)  "
   ]
  },
  {
   "cell_type": "markdown",
   "metadata": {},
   "source": [
    "### List vs Tuple\n",
    "- Lists are mutable and created with [].\n",
    "- Tuples are immutable and created with ()."
   ]
  },
  {
   "cell_type": "markdown",
   "metadata": {},
   "source": [
    "## List comprehension is a concise way to create lists in Python. It allows you to generate lists by iterating over an iterable and optionally applying a condition. \n",
    "\n",
    "- Basic Syntax\n",
    " *[expression for item in iterable if condition]*\n",
    "\n",
    "- **expression:** The value to add to the list.\n",
    "- **item:** The variable representing the current element in the iteration.\n",
    "- **iterable:** The collection (e.g., list, range, string) to iterate over.\n",
    "- **condition** (optional): A filter that determines whether the expression is added to the list.\n",
    "\n"
   ]
  },
  {
   "cell_type": "code",
   "execution_count": null,
   "metadata": {},
   "outputs": [],
   "source": [
    "# Examples: Creating a List of Squares\n",
    "# Using list comprehension to create a list of squares of numbers from 0 to 9:\n",
    "\n",
    "squares = [x**2 for x in range(10)]\n",
    "print(squares)\n",
    "\n",
    "# This is equivalent to:\n",
    "\n",
    "squares = []\n",
    "for x in range(10):\n",
    "    squares.append(x**2)"
   ]
  },
  {
   "cell_type": "code",
   "execution_count": null,
   "metadata": {},
   "outputs": [],
   "source": [
    "# Filtering with Conditions\n",
    "# Creating a list of even numbers from 0 to 9:\n",
    "\n",
    "evens = [x for x in range(10) if x % 2 == 0]\n",
    "print(evens) \n",
    "\n",
    "# This is equivalent to:\n",
    "\n",
    "evens = []\n",
    "for x in range(10):\n",
    "    if x % 2 == 0:\n",
    "        evens.append(x)"
   ]
  },
  {
   "cell_type": "code",
   "execution_count": null,
   "metadata": {},
   "outputs": [],
   "source": [
    "# Transforming Elements\n",
    "# Using list comprehension to convert a list of strings to uppercase:\n",
    "\n",
    "fruits = [\"apple\", \"banana\", \"cherry\"]\n",
    "upper_fruits = [fruit.upper() for fruit in fruits]\n",
    "print(upper_fruits) \n",
    "\n",
    "# This is equivalent to:\n",
    "\n",
    "upper_fruits = []\n",
    "for fruit in fruits:\n",
    "    upper_fruits.append(fruit.upper())"
   ]
  },
  {
   "cell_type": "code",
   "execution_count": 1,
   "metadata": {},
   "outputs": [
    {
     "name": "stdout",
     "output_type": "stream",
     "text": [
      "[1, 2, 3, 4, 5, 6, 7, 8, 9]\n"
     ]
    }
   ],
   "source": [
    "# Flattening a Nested List\n",
    "# Flattening a list of lists into a single list:\n",
    "\n",
    "nested_list = [[1, 2, 3], [4, 5, 6], [7, 8, 9]]\n",
    "flattened = [num for sublist in nested_list for num in sublist]\n",
    "print(flattened)\n",
    "\n",
    "# This is equivalent to:\n",
    "\n",
    "flattened = []\n",
    "for sublist in nested_list:\n",
    "    for num in sublist:\n",
    "        flattened.append(num)"
   ]
  },
  {
   "cell_type": "markdown",
   "metadata": {},
   "source": [
    "## Shallow Copy\n",
    "### A shallow copy of a list creates a new list, but it does not create new copies of the elements inside the list. Instead, it copies the references to the objects in the original list. Therefore, changes to the elements themselves (if they are mutable, like other lists) will affect both the original and the copied list.\n",
    "\n",
    "#### Methods to Create a Shallow Copy\n",
    " - **Using the copy module's copy method**\n",
    "   import copy\n",
    "   original_list = [[1, 2, 3], [4, 5, 6]]\n",
    "  shallow_copy = copy.copy(original_list)\n",
    " - **Using the list constructor**\n",
    "   original_list = [[1, 2, 3], [4, 5, 6]]\n",
    "   shallow_copy = list(original_list)\n",
    " - **Using slicing**\n",
    "   original_list = [[1, 2, 3], [4, 5, 6]]\n",
    "   shallow_copy = original_list[:]"
   ]
  },
  {
   "cell_type": "code",
   "execution_count": null,
   "metadata": {},
   "outputs": [],
   "source": [
    "# Modifying the Shallow Copy:\n",
    "\n",
    "original_list = [[1, 2, 3], [4, 5, 6]]\n",
    "\n",
    "\n",
    "shallow_copy = original_list[:]\n",
    "\n",
    "\n",
    "shallow_copy[0][0] = 10\n",
    "\n",
    "print(\"Original List:\", original_list)  \n",
    "print(\"Shallow Copy:\", shallow_copy)\n",
    "\n",
    "#In this example, when we modify an element of the nested list in the shallow copy, \n",
    "# the change is also reflected in the original list. \n",
    "# This is because both lists share the same inner lists."
   ]
  },
  {
   "cell_type": "markdown",
   "metadata": {},
   "source": [
    "## Deep Copy\n",
    "### A deep copy of a list creates a completely new list along with new copies of all the elements and their nested elements. Changes to the elements in the deep copy do not affect the original list.\n",
    "\n",
    "#### Deep Copy: Copies the list and all elements and their nested elements. Changes do not affect the original list.\n",
    "\n",
    "\n"
   ]
  },
  {
   "cell_type": "code",
   "execution_count": null,
   "metadata": {},
   "outputs": [],
   "source": [
    "\n",
    "import copy\n",
    "original_list = [[1, 2, 3], [4, 5, 6]]\n",
    "deep_copy = copy.deepcopy(original_list)\n",
    "\n",
    "deep_copy[0][0] = 10\n",
    "\n",
    "print(\"Original List:\", original_list) \n",
    "print(\"Deep Copy:\", deep_copy)         \n",
    "\n",
    "# In this example, when we modify an element of the nested list in the deep copy,\n",
    "# the change is not reflected in the original list. \n",
    "# This is because the deep copy creates entirely new inner lists.\n",
    "\n"
   ]
  }
 ],
 "metadata": {
  "kernelspec": {
   "display_name": "Python 3",
   "language": "python",
   "name": "python3"
  },
  "language_info": {
   "codemirror_mode": {
    "name": "ipython",
    "version": 3
   },
   "file_extension": ".py",
   "mimetype": "text/x-python",
   "name": "python",
   "nbconvert_exporter": "python",
   "pygments_lexer": "ipython3",
   "version": "3.12.3"
  }
 },
 "nbformat": 4,
 "nbformat_minor": 2
}
