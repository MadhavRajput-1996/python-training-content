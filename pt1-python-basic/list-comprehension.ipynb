{
 "cells": [
  {
   "cell_type": "markdown",
   "metadata": {},
   "source": [
    "List comprehension is a concise way to create lists in Python. It allows you to generate a new list by applying an expression to each item in an iterable, typically combined with an optional filtering condition."
   ]
  },
  {
   "cell_type": "markdown",
   "metadata": {},
   "source": [
    "[expression for item in iterable if condition]\n"
   ]
  },
  {
   "cell_type": "code",
   "execution_count": null,
   "metadata": {},
   "outputs": [],
   "source": [
    "# Without List Comprehension\n",
    "\n",
    "squares = []\n",
    "for x in range(10):\n",
    "    if x % 2 == 0:\n",
    "        squares.append(x**2)\n",
    "print(squares)  \n",
    "\n",
    "\n",
    "# With List Comprehension\n",
    "\n",
    "squares = [x**2 for x in range(10) if x % 2 == 0]\n",
    "print(squares)  \n",
    "\n",
    "\n",
    "# Table\n",
    "\n",
    "def print_multiplication_table(number):\n",
    "    table = [f\"{number} x {i} = {number * i}\" for i in range(1, 11)]\n",
    "    print(\"\\n\".join(table))\n",
    "\n",
    "number = int(input(\"Enter a number: \"))\n",
    "if number > 0:\n",
    "    print_multiplication_table(number)\n",
    "else:\n",
    "    print(\"Please enter a positive integer.\")"
   ]
  }
 ],
 "metadata": {
  "kernelspec": {
   "display_name": "Python 3",
   "language": "python",
   "name": "python3"
  },
  "language_info": {
   "codemirror_mode": {
    "name": "ipython",
    "version": 3
   },
   "file_extension": ".py",
   "mimetype": "text/x-python",
   "name": "python",
   "nbconvert_exporter": "python",
   "pygments_lexer": "ipython3",
   "version": "3.10.12"
  }
 },
 "nbformat": 4,
 "nbformat_minor": 2
}
