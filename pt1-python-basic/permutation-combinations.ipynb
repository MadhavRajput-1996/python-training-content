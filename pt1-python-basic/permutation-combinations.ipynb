{
 "cells": [
  {
   "cell_type": "code",
   "execution_count": null,
   "metadata": {},
   "outputs": [],
   "source": [
    "import itertools\n",
    "\n",
    "def permutations(inputValue):\n",
    "    perm = list(itertools.permutations(inputValue))\n",
    "    return perm, len(perm)\n",
    "\n",
    "def combinations(inputValue, r):\n",
    "    comb = list(itertools.combinations(inputValue, r))\n",
    "    return comb, len(comb)\n",
    "\n",
    "try:\n",
    "    inputValue = input(\"Enter a string: \")\n",
    "    \n",
    "    # Calculate permutations\n",
    "    perm_result, perm_count = permutations(inputValue)\n",
    "    print(\"Permutations:\")\n",
    "    for perm in perm_result:\n",
    "        print(''.join(perm))\n",
    "    print(f\"Total permutations: {perm_count}\")\n",
    "\n",
    "    r = int(input(\"Enter the length for combinations: \"))\n",
    "    \n",
    "    # Calculate combinations\n",
    "    comb_result, comb_count = combinations(inputValue, r)\n",
    "    print(f\"Combinations of length {r}:\")\n",
    "    for comb in comb_result:\n",
    "        print(''.join(comb))\n",
    "    print(f\"Total combinations of length {r}: {comb_count}\")\n",
    "\n",
    "except ValueError:\n",
    "    print(\"Invalid input. Please enter a valid string and integer.\")"
   ]
  }
 ],
 "metadata": {
  "kernelspec": {
   "display_name": "Python 3",
   "language": "python",
   "name": "python3"
  },
  "language_info": {
   "codemirror_mode": {
    "name": "ipython",
    "version": 3
   },
   "file_extension": ".py",
   "mimetype": "text/x-python",
   "name": "python",
   "nbconvert_exporter": "python",
   "pygments_lexer": "ipython3",
   "version": "3.10.12"
  }
 },
 "nbformat": 4,
 "nbformat_minor": 2
}
