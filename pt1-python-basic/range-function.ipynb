{
 "cells": [
  {
   "cell_type": "markdown",
   "metadata": {},
   "source": [
    "The range() function in Python is a built-in function that generates an immutable sequence of numbers, commonly used for iterating over a specific range in loops. It can take up to three arguments:\n",
    "\n",
    "start (optional, defaults to 0): Specifies the beginning of the sequence.\n",
    "stop (required): Defines the endpoint, which is exclusive (i.e., the sequence runs up to but does not include this value).\n",
    "step (optional, defaults to 1): Determines the increment (or decrement, if negative) between consecutive numbers in the sequence.\n",
    "\n",
    "The range() function is memory-efficient as it generates values on demand (lazy evaluation), rather than storing the entire sequence in memory."
   ]
  },
  {
   "cell_type": "code",
   "execution_count": null,
   "metadata": {},
   "outputs": [],
   "source": [
    "# Using range() to Create a List\n",
    "\n",
    "numbers = list(range(5))\n",
    "print(numbers)\n",
    "\n",
    "# Range for Iterating Over List Indexes\n",
    "\n",
    "my_list = ['a', 'b', 'c', 'd']\n",
    "for i in range(len(my_list)):\n",
    "    print(f\"Index {i} has value {my_list[i]}\")\n",
    "\n",
    "# Using range() in Conditional Statements\n",
    "\n",
    "if 4 in range(1, 10):\n",
    "    print(\"4 is in the range from 1 to 10\")\n",
    "\n",
    " # Summing a Sequence with range()\n",
    "\n",
    "total = sum(range(1, 6))  \n",
    "print(total)\n",
    "\n",
    "# Generating Even Numbers\n",
    "\n",
    "evens = list(range(2, 11, 2))\n",
    "print(evens)\n",
    "\n",
    "\n",
    "# with for loops \n",
    "\n",
    "def multiplication_table(number):\n",
    "    for i in range(1, 11):\n",
    "        print(f\"{number} * {i} = {i * number}\")\n",
    "   \n",
    "number = int(input(\"Enter the number: \"))   \n",
    "if number < 0:\n",
    "    print(\"Please enter a positive number\")\n",
    "    raise ValueError(\"Negative numbers are not allowed.\")\n",
    "    \n",
    "multiplication_table(number)\n",
    "\n"
   ]
  }
 ],
 "metadata": {
  "kernelspec": {
   "display_name": "Python 3",
   "language": "python",
   "name": "python3"
  },
  "language_info": {
   "codemirror_mode": {
    "name": "ipython",
    "version": 3
   },
   "file_extension": ".py",
   "mimetype": "text/x-python",
   "name": "python",
   "nbconvert_exporter": "python",
   "pygments_lexer": "ipython3",
   "version": "3.10.12"
  }
 },
 "nbformat": 4,
 "nbformat_minor": 2
}
