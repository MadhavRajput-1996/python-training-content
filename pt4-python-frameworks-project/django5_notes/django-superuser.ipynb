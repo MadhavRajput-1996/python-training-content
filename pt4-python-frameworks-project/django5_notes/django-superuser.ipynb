{
 "cells": [
  {
   "cell_type": "markdown",
   "metadata": {},
   "source": [
    "### Creating a Superuser and Exploring the Admin Panel\n",
    "\n",
    "- The Django admin panel is a built-in feature that allows you to manage your application's data through a web interface. To access it, you need to create a superuser and configure the admin panel."
   ]
  },
  {
   "cell_type": "markdown",
   "metadata": {},
   "source": [
    "#### Creating a Superuser:\n",
    "\n",
    "- Run the following command to create a superuser\n",
    "*python manage.py createsuperuser*\n",
    "- Follow the prompts to set the username, email, and password.\n"
   ]
  },
  {
   "cell_type": "markdown",
   "metadata": {},
   "source": [
    "#### Accessing the Admin Panel:\n",
    "\n",
    "- Start the development server\n",
    "*python manage.py runserver*\n"
   ]
  },
  {
   "cell_type": "markdown",
   "metadata": {},
   "source": [
    "#### Registering Models with the Admin Panel:\n",
    "- To manage models through the admin panel, you need to register them in your app's admin.py file. Here’s an example:"
   ]
  },
  {
   "cell_type": "code",
   "execution_count": null,
   "metadata": {},
   "outputs": [],
   "source": [
    "from django.contrib import admin\n",
    "from .models import MyModel\n",
    "\n",
    "admin.site.register(MyModel)\n",
    "\n",
    "# Once registered, MyModel will appear in the admin interface, \n",
    "# allowing you to add, modify, and delete instances of it."
   ]
  }
 ],
 "metadata": {
  "language_info": {
   "name": "python"
  }
 },
 "nbformat": 4,
 "nbformat_minor": 2
}
