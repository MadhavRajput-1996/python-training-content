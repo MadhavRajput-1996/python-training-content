{
 "cells": [
  {
   "cell_type": "markdown",
   "metadata": {},
   "source": [
    "## The Django admin panel is a powerful tool for managing your application’s data through a web interface. It provides a ready-to-use interface for managing model data, user permissions, and more."
   ]
  },
  {
   "cell_type": "markdown",
   "metadata": {},
   "source": [
    "### Setting Up the Django Admin Panel\n",
    "\n",
    "- Ensure that django.contrib.admin is added to the INSTALLED_APPS in your settings.py."
   ]
  },
  {
   "cell_type": "markdown",
   "metadata": {},
   "source": [
    "- Including Admin URLs:\n",
    "- Make sure you have included the admin URLs in your urls.py."
   ]
  },
  {
   "cell_type": "code",
   "execution_count": null,
   "metadata": {},
   "outputs": [],
   "source": [
    "# project/urls.py\n",
    "from django.contrib import admin\n",
    "from django.urls import path, include\n",
    "\n",
    "urlpatterns = [\n",
    "    path('admin/', admin.site.urls),\n",
    "    path('', include('myapp.urls')),  # Example of including app URLs\n",
    "]\n"
   ]
  },
  {
   "cell_type": "markdown",
   "metadata": {},
   "source": [
    "###  Creating a Superuser\n",
    "\n",
    "- To access the admin panel, you need a superuser. Create one using the following command:\n",
    "\n",
    "*python manage.py createsuperuser*\n",
    "\n",
    "### Accessing the Admin Panel\n",
    "\n",
    "*python manage.py runserver*\n",
    "\n"
   ]
  },
  {
   "cell_type": "markdown",
   "metadata": {},
   "source": [
    "### Registering Models with the Admin Panel\n",
    "\n",
    "*To manage models through the admin panel, you need to register them in your app’s admin.py*"
   ]
  },
  {
   "cell_type": "markdown",
   "metadata": {},
   "source": [
    "#### Basic Model Registration:"
   ]
  },
  {
   "cell_type": "code",
   "execution_count": null,
   "metadata": {},
   "outputs": [],
   "source": [
    "# myapp/admin.py\n",
    "from django.contrib import admin\n",
    "from .models import Person\n",
    "\n",
    "admin.site.register(Person)\n",
    "\n",
    "\n",
    "# This will make the Person model available in the admin interface."
   ]
  },
  {
   "cell_type": "markdown",
   "metadata": {},
   "source": [
    "### Customizing the Admin Interface\n",
    "- Customize forms and group fields into sections."
   ]
  },
  {
   "cell_type": "code",
   "execution_count": null,
   "metadata": {},
   "outputs": [],
   "source": [
    "# myapp/admin.py\n",
    "from django.contrib import admin\n",
    "from .models import Person\n",
    "\n",
    "class PersonAdmin(admin.ModelAdmin):\n",
    "    fieldsets = (\n",
    "        (None, {\n",
    "            'fields': ('first_name', 'last_name')\n",
    "        }),\n",
    "        ('Contact Information', {\n",
    "            'fields': ('email', 'phone_number', 'address')\n",
    "        }),\n",
    "    )\n",
    "\n",
    "admin.site.register(Person, PersonAdmin)\n"
   ]
  },
  {
   "cell_type": "markdown",
   "metadata": {},
   "source": [
    "### Permissions and User Management\n",
    "##### Creating Staff Users:\n",
    "\n",
    "- Staff users can access the admin interface but have limited permissions."
   ]
  },
  {
   "cell_type": "code",
   "execution_count": null,
   "metadata": {},
   "outputs": [],
   "source": [
    "# myapp/admin.py\n",
    "from django.contrib import admin\n",
    "from django.contrib.auth.models import User\n",
    "\n",
    "admin.site.register(User)\n"
   ]
  },
  {
   "cell_type": "markdown",
   "metadata": {},
   "source": [
    "#### Customizing Permissions:\n",
    "\n",
    "- Customize which users can access and modify which models."
   ]
  },
  {
   "cell_type": "code",
   "execution_count": null,
   "metadata": {},
   "outputs": [],
   "source": [
    "# myapp/admin.py\n",
    "from django.contrib import admin\n",
    "from .models import Person\n",
    "\n",
    "class PersonAdmin(admin.ModelAdmin):\n",
    "    ...\n",
    "\n",
    "    def has_add_permission(self, request):\n",
    "        return request.user.is_superuser\n",
    "\n",
    "    def has_change_permission(self, request, obj=None):\n",
    "        return request.user.is_superuser\n",
    "\n",
    "    def has_delete_permission(self, request, obj=None):\n",
    "        return request.user.is_superuser\n",
    "\n",
    "admin.site.register(Person, PersonAdmin)\n"
   ]
  },
  {
   "cell_type": "markdown",
   "metadata": {},
   "source": [
    "### Overriding Admin Templates:\n",
    "\n",
    "- Customize the look and feel of the admin interface by overriding templates. Place your custom templates in the templates/admin directory."
   ]
  }
 ],
 "metadata": {
  "language_info": {
   "name": "python"
  }
 },
 "nbformat": 4,
 "nbformat_minor": 2
}
