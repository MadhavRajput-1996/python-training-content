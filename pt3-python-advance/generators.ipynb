{
 "cells": [
  {
   "cell_type": "markdown",
   "metadata": {},
   "source": [
    "## Generators are special functions that return an iterator object which can be iterated over (one value at a time). They allow you to iterate through a sequence of values but do not store the entire sequence in memory at once. This makes them memory efficient.\n",
    "\n",
    "- Generators are a simple way of creating iterators.\n",
    "- they generate values on the fly and yield them one by one.\n",
    "- Generators are useful for working with large datasets or streams of data where you don't want to load everything into memory at once."
   ]
  },
  {
   "cell_type": "markdown",
   "metadata": {},
   "source": [
    "### Usage: Generators are used for:\n",
    "\n",
    "- Generating large sequences of data lazily (on-demand).\n",
    "- Representing infinite sequences.\n",
    "- Performing operations on streams of data."
   ]
  },
  {
   "cell_type": "code",
   "execution_count": null,
   "metadata": {},
   "outputs": [],
   "source": [
    "# Basic Generator Example\n",
    "\n",
    "def simple_generator():\n",
    "    yield 1\n",
    "    yield 2\n",
    "    yield 3\n",
    "\n",
    "gen = simple_generator()\n",
    "\n",
    "for value in gen:\n",
    "    print(value)\n"
   ]
  },
  {
   "cell_type": "code",
   "execution_count": null,
   "metadata": {},
   "outputs": [],
   "source": [
    "# Using next() with Generators\n",
    "\n",
    "def simple_generator():\n",
    "    yield 1\n",
    "    yield 2\n",
    "    yield 3\n",
    "\n",
    "gen = simple_generator()\n",
    "\n",
    "print(next(gen))  # Output: 1\n",
    "print(next(gen))  # Output: 2\n",
    "print(next(gen))  # Output: 3\n",
    "# print(next(gen))  # Raises StopIteration\n"
   ]
  },
  {
   "cell_type": "code",
   "execution_count": null,
   "metadata": {},
   "outputs": [],
   "source": [
    "# Generators with Loops\n",
    "\n",
    "def countdown(num):\n",
    "    while num > 0:\n",
    "        yield num\n",
    "        num -= 1\n",
    "\n",
    "for count in countdown(5):\n",
    "    print(count)\n"
   ]
  },
  {
   "cell_type": "markdown",
   "metadata": {},
   "source": [
    "### Generator Expressions\n",
    "- Generator expressions provide a concise way to create generators. They are similar to list comprehensions but use parentheses instead of square brackets."
   ]
  },
  {
   "cell_type": "code",
   "execution_count": null,
   "metadata": {},
   "outputs": [],
   "source": [
    "gen_expr = (x * x for x in range(5))\n",
    "\n",
    "for value in gen_expr:\n",
    "    print(value)\n"
   ]
  },
  {
   "cell_type": "markdown",
   "metadata": {},
   "source": [
    "### Infinite Generators\n",
    "- Generators can be used to create infinite sequences."
   ]
  },
  {
   "cell_type": "code",
   "execution_count": null,
   "metadata": {},
   "outputs": [],
   "source": [
    "def infinite_sequence():\n",
    "    num = 0\n",
    "    while True:\n",
    "        yield num\n",
    "        num += 1\n",
    "\n",
    "gen = infinite_sequence()\n",
    "\n",
    "import itertools\n",
    "for value in itertools.islice(gen, 5):\n",
    "    print(value)\n"
   ]
  },
  {
   "cell_type": "markdown",
   "metadata": {},
   "source": [
    "### Chaining Generators\n",
    "- You can chain generators together to create more complex sequences."
   ]
  },
  {
   "cell_type": "code",
   "execution_count": null,
   "metadata": {},
   "outputs": [],
   "source": [
    "def generator1():\n",
    "    yield from range(3)\n",
    "\n",
    "def generator2():\n",
    "    yield from range(3, 6)\n",
    "\n",
    "def chained_generator():\n",
    "    yield from generator1()\n",
    "    yield from generator2()\n",
    "\n",
    "for value in chained_generator():\n",
    "    print(value)\n"
   ]
  },
  {
   "cell_type": "markdown",
   "metadata": {},
   "source": [
    "### Passing Values into Generators\n",
    "- You can send values into a generator using the send() method. This allows you to modify the internal state of the generator."
   ]
  },
  {
   "cell_type": "code",
   "execution_count": null,
   "metadata": {},
   "outputs": [],
   "source": [
    "def accumulator():\n",
    "    total = 0\n",
    "    while True:\n",
    "        value = yield total\n",
    "        if value is not None:\n",
    "            total += value\n",
    "\n",
    "gen = accumulator()\n",
    "print(next(gen))  # Initialize the generator, Output: 0\n",
    "print(gen.send(10))  # Output: 10\n",
    "print(gen.send(20))  # Output: 30\n",
    "print(gen.send(5))   # Output: 35\n"
   ]
  },
  {
   "cell_type": "markdown",
   "metadata": {},
   "source": [
    "### Handling Generator Cleanup\n",
    "- Generators can clean up resources using the finally block or the close() method."
   ]
  },
  {
   "cell_type": "code",
   "execution_count": null,
   "metadata": {},
   "outputs": [],
   "source": [
    "def managed_generator():\n",
    "    print(\"Starting\")\n",
    "    try:\n",
    "        yield 1\n",
    "        yield 2\n",
    "        yield 3\n",
    "    finally:\n",
    "        print(\"Cleaning up\")\n",
    "\n",
    "gen = managed_generator()\n",
    "print(next(gen))  # Output: Starting \\n 1\n",
    "print(next(gen))  # Output: 2\n",
    "gen.close()       # Output: Cleaning up\n"
   ]
  },
  {
   "cell_type": "markdown",
   "metadata": {},
   "source": [
    "### Using Generators for Performance\n",
    "- Generators are especially useful for performance when dealing with large data streams or files."
   ]
  },
  {
   "cell_type": "code",
   "execution_count": null,
   "metadata": {},
   "outputs": [],
   "source": [
    "# Example: Reading Large Files\n",
    "\n",
    "def read_large_file(file_path):\n",
    "    with open(file_path, 'r') as file:\n",
    "        for line in file:\n",
    "            yield line.strip()\n",
    "\n",
    "# Assuming 'large_file.txt' is a large file\n",
    "for line in read_large_file('large_file.txt'):\n",
    "    print(line)\n"
   ]
  },
  {
   "cell_type": "markdown",
   "metadata": {},
   "source": [
    "### Advanced Generator Features\n",
    "- Generator Methods: send(), throw(), and close()"
   ]
  },
  {
   "cell_type": "markdown",
   "metadata": {},
   "source": [
    "### send(value):\n",
    "- Used to send a value to the generator. The value is returned by the yield expression inside the generator."
   ]
  },
  {
   "cell_type": "code",
   "execution_count": null,
   "metadata": {},
   "outputs": [],
   "source": [
    "def generator_with_send():\n",
    "    while True:\n",
    "        value = yield\n",
    "        print(f\"Received value: {value}\")\n",
    "\n",
    "gen = generator_with_send()\n",
    "next(gen)  # Prime the generator\n",
    "gen.send(10)  # Output: Received value: 10\n",
    "gen.send(20)  # Output: Received value: 20\n"
   ]
  },
  {
   "cell_type": "markdown",
   "metadata": {},
   "source": [
    "### throw(type, value=None, traceback=None):\n",
    "- Used to raise an exception inside the generator."
   ]
  },
  {
   "cell_type": "code",
   "execution_count": null,
   "metadata": {},
   "outputs": [],
   "source": [
    "def generator_with_throw():\n",
    "    try:\n",
    "        while True:\n",
    "            yield\n",
    "    except ValueError:\n",
    "        print(\"ValueError caught inside generator\")\n",
    "\n",
    "gen = generator_with_throw()\n",
    "next(gen)\n",
    "gen.throw(ValueError)\n"
   ]
  },
  {
   "cell_type": "markdown",
   "metadata": {},
   "source": [
    "### close():\n",
    "- Used to close the generator. This raises a GeneratorExit exception inside the generator to perform cleanup."
   ]
  },
  {
   "cell_type": "code",
   "execution_count": null,
   "metadata": {},
   "outputs": [],
   "source": [
    "def generator_with_close():\n",
    "    print(\"Starting generator\")\n",
    "    try:\n",
    "        while True:\n",
    "            yield\n",
    "    except GeneratorExit:\n",
    "        print(\"Generator closed\")\n",
    "\n",
    "gen = generator_with_close()\n",
    "next(gen)\n",
    "gen.close()\n"
   ]
  }
 ],
 "metadata": {
  "language_info": {
   "name": "python"
  }
 },
 "nbformat": 4,
 "nbformat_minor": 2
}
