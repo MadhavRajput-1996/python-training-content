{
 "cells": [
  {
   "cell_type": "markdown",
   "metadata": {},
   "source": [
    "### Context Manager Methods\n",
    "When using a file with a context manager (with statement), you typically don’t need to explicitly call close(), as it is handled automatically"
   ]
  },
  {
   "cell_type": "markdown",
   "metadata": {},
   "source": [
    "### Here's a full example of file handling in Python that demonstrates reading from a text file, writing to a text file, appending data, handling exceptions, and working with JSON files."
   ]
  },
  {
   "cell_type": "code",
   "execution_count": 4,
   "metadata": {},
   "outputs": [],
   "source": [
    "def create_sample_file():\n",
    "    with open('textfiles/students.txt', 'w') as file:\n",
    "        file.write(\"Alice,20\\n\")\n",
    "        file.write(\"Bob,22\\n\")\n",
    "        file.write(\"Charlie,21\\n\")\n",
    "\n",
    "create_sample_file()"
   ]
  },
  {
   "cell_type": "code",
   "execution_count": 5,
   "metadata": {},
   "outputs": [],
   "source": [
    "import json\n",
    "\n",
    "def add_student(name, age):\n",
    "    with open('textfiles/students.txt', 'a') as file:\n",
    "        file.write(f\"{name},{age}\\n\")\n",
    "    print(f\"Added student: {name}, Age: {age}\")\n",
    "\n",
    "def view_students():\n",
    "    try:\n",
    "        with open('textfiles/students.txt', 'r') as file:\n",
    "            students = file.readlines()\n",
    "            for student in students:\n",
    "                name, age = student.strip().split(',')\n",
    "                print(f\"Name: {name}, Age: {age}\")\n",
    "    except FileNotFoundError:\n",
    "        print(\"No student records found.\")\n",
    "\n",
    "def save_students_to_json(json_filename):\n",
    "    students_list = []\n",
    "    try:\n",
    "        with open('textfiles/students.txt', 'r') as file:\n",
    "            students = file.readlines()\n",
    "            for student in students:\n",
    "                name, age = student.strip().split(',')\n",
    "                students_list.append({\"name\": name, \"age\": int(age)})\n",
    "        \n",
    "        with open(json_filename, 'w') as json_file:\n",
    "            json.dump(students_list, json_file)\n",
    "        print(f\"Students saved to {json_filename}\")\n",
    "    except FileNotFoundError:\n",
    "        print(\"No student records found to save.\")\n"
   ]
  },
  {
   "cell_type": "code",
   "execution_count": null,
   "metadata": {},
   "outputs": [],
   "source": [
    "def main():\n",
    "    while True:\n",
    "        print(\"\\nStudent Records Management\")\n",
    "        print(\"1. Add Student\")\n",
    "        print(\"2. View Students\")\n",
    "        print(\"3. Save Students to JSON\")\n",
    "        print(\"4. Exit\")\n",
    "        \n",
    "        choice = input(\"Choose an option: \")\n",
    "\n",
    "        if choice == '1':\n",
    "            name = input(\"Enter student's name: \")\n",
    "            age = input(\"Enter student's age: \")\n",
    "            add_student(name, age)\n",
    "        elif choice == '2':\n",
    "            print(\"\\nStudent Records:\")\n",
    "            view_students()\n",
    "        elif choice == '3':\n",
    "            save_students_to_json('textfiles/students.json')\n",
    "        elif choice == '4':\n",
    "            print(\"Exiting program.\")\n",
    "            break\n",
    "        else:\n",
    "            print(\"Invalid choice. Please try again.\")\n",
    "\n",
    "if __name__ == \"__main__\":\n",
    "    main()\n"
   ]
  }
 ],
 "metadata": {
  "kernelspec": {
   "display_name": "Python 3",
   "language": "python",
   "name": "python3"
  },
  "language_info": {
   "codemirror_mode": {
    "name": "ipython",
    "version": 3
   },
   "file_extension": ".py",
   "mimetype": "text/x-python",
   "name": "python",
   "nbconvert_exporter": "python",
   "pygments_lexer": "ipython3",
   "version": "3.10.12"
  }
 },
 "nbformat": 4,
 "nbformat_minor": 2
}
