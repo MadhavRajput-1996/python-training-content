{
 "cells": [
  {
   "cell_type": "markdown",
   "metadata": {},
   "source": [
    " use of read(), readline(), readlines(), write(), and writelines() in a single script. This example creates a text file, writes some lines to it, and then reads the contents in different ways."
   ]
  },
  {
   "cell_type": "code",
   "execution_count": 15,
   "metadata": {},
   "outputs": [],
   "source": [
    "import os\n",
    "# Create a text file and write some lines to it\n",
    "def create_file():\n",
    "    if not os.path.exists('textfiles/myfile.txt'):\n",
    "        with open('textfiles/myfile.txt', 'w') as file:\n",
    "            file.write(\"Hello, World!\\n\")\n",
    "            file.write(\"This is the second line.\\n\")\n",
    "            file.write(\"And this is the third line.\\n\")\n",
    "            file.write(\"Goodbye!\")\n",
    "        print(\"File 'myfile.txt' created.\")\n",
    "    else:\n",
    "        print(\"File 'myfile.txt' already exists.\")\n",
    "\n",
    "# Read the entire file content using read()\n",
    "def read_entire_file():\n",
    "    with open('textfiles/myfile.txt', 'r') as file:\n",
    "        content = file.read()\n",
    "        print(\"Content of the file using read():\")\n",
    "        print(content)\n",
    "\n",
    "# Read the file line by line using readline()\n",
    "def read_file_line_by_line():\n",
    "    with open('textfiles/myfile.txt', 'r') as file:\n",
    "        print(\"Content of the file using readline():\")\n",
    "        line = file.readline()\n",
    "        while line:\n",
    "            print(line.strip())  # Remove the newline character\n",
    "            line = file.readline()\n",
    "\n",
    "# Read all lines into a list using readlines()\n",
    "def read_file_as_list():\n",
    "    with open('textfiles/myfile.txt', 'r') as file:\n",
    "        lines = file.readlines()\n",
    "        print(\"Content of the file using readlines():\")\n",
    "        for line in lines:\n",
    "            print(line.strip())\n",
    "\n",
    "# Write multiple lines to a new file using writelines()\n",
    "def write_multiple_lines():\n",
    "    lines_to_write = [\n",
    "        \"First line written using writelines.\\n\",\n",
    "        \"Second line written using writelines.\\n\",\n",
    "        \"Third line written using writelines.\\n\"\n",
    "    ]\n",
    "    with open('textfiles/myfile2.txt', 'w') as file:\n",
    "        file.writelines(lines_to_write)\n",
    "\n",
    "# Main function to execute the above functions\n",
    "def main():\n",
    "    # create_file()              \n",
    "    # read_entire_file()         \n",
    "    # read_file_line_by_line()  \n",
    "    # read_file_as_list()         \n",
    "    write_multiple_lines()\n",
    "\n",
    "if __name__ == \"__main__\":\n",
    "    main()\n"
   ]
  }
 ],
 "metadata": {
  "kernelspec": {
   "display_name": "Python 3",
   "language": "python",
   "name": "python3"
  },
  "language_info": {
   "codemirror_mode": {
    "name": "ipython",
    "version": 3
   },
   "file_extension": ".py",
   "mimetype": "text/x-python",
   "name": "python",
   "nbconvert_exporter": "python",
   "pygments_lexer": "ipython3",
   "version": "3.10.12"
  }
 },
 "nbformat": 4,
 "nbformat_minor": 2
}
