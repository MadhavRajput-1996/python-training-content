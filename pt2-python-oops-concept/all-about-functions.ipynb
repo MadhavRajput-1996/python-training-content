{
 "cells": [
  {
   "cell_type": "markdown",
   "metadata": {},
   "source": [
    "## A function is defined using the def keyword followed by the function name, parentheses (), and a colon : to start the function block.\n",
    "\n",
    "- Functions can accept zero or more parameters when defined.\n",
    "\n",
    "- Parameters act as placeholders for values passed to the function.\n",
    "\n",
    "- The function block is defined using indentation and contains the code to execute when  the function is called.\n",
    "\n",
    "- The return statement is used to end the execution of the function and optionally return a value.\n",
    "\n",
    "- If no return statement is used, the function will return None by default."
   ]
  },
  {
   "cell_type": "code",
   "execution_count": null,
   "metadata": {},
   "outputs": [],
   "source": []
  },
  {
   "cell_type": "code",
   "execution_count": null,
   "metadata": {},
   "outputs": [],
   "source": [
    "# Defining a Function\n",
    "\n",
    "def greet(name):\n",
    "    \"\"\" In this way we cams pass doc strings\"\"\"\n",
    "    print(f\"Hello, {name}!\")\n",
    "    \n",
    "# Calling a Function\n",
    "\n",
    "greet(\"Alice\")\n",
    "\n"
   ]
  },
  {
   "cell_type": "code",
   "execution_count": 1,
   "metadata": {},
   "outputs": [
    {
     "name": "stdout",
     "output_type": "stream",
     "text": [
      "The area of the rectangle with length 5 and width 3 is: 15 square units\n"
     ]
    }
   ],
   "source": [
    "# Function to calculate the area of a rectangle\n",
    "\n",
    "def calculate_area(length, width):\n",
    "    \"\"\"\n",
    "    Calculate the area of a rectangle.\n",
    "\n",
    "    Args:\n",
    "        length (float): The length of the rectangle.\n",
    "        width (float): The width of the rectangle.\n",
    "\n",
    "    Returns:\n",
    "        float: The area of the rectangle.\n",
    "    \"\"\"\n",
    "    area = length * width\n",
    "    return area\n",
    "\n",
    "rectangle_length = 5\n",
    "rectangle_width = 3\n",
    "rectangle_area = calculate_area(rectangle_length, rectangle_width)\n",
    "print(f\"The area of the rectangle with length {rectangle_length} and width {rectangle_width} is: {rectangle_area} square units\")"
   ]
  },
  {
   "cell_type": "markdown",
   "metadata": {},
   "source": [
    "### Function Parameters\n",
    "\n",
    "- Functions can accept various types of parameters:"
   ]
  },
  {
   "cell_type": "code",
   "execution_count": null,
   "metadata": {},
   "outputs": [],
   "source": [
    "# Positional Arguments\n",
    "# Arguments passed in the order they are defined.\n",
    "\n",
    "def add(a, b):\n",
    "    return a + b\n",
    "\n",
    "print(add(2, 3))  \n",
    "\n",
    "# Keyword Arguments\n",
    "# Arguments passed with their parameter names.\n",
    "\n",
    "def subtract(a, b):\n",
    "    return a - b\n",
    "\n",
    "print(subtract(b=5, a=10))  \n",
    "\n",
    "# Default Arguments\n",
    "# Arguments that take default values if not provided.\n",
    "\n",
    "def multiply(a, b=1):\n",
    "    return a * b\n",
    "\n",
    "print(multiply(5)) \n",
    "\n",
    "# Variable-Length Arguments\n",
    "# Functions can accept variable numbers of arguments \n",
    "# using *args for non-keyword arguments and **kwargs for keyword arguments.\n",
    "\n",
    "def add_all(*args):\n",
    "    return sum(args)\n",
    "\n",
    "print(add_all(1, 2, 3))  # Output: 6\n",
    "\n",
    "def print_info(**kwargs):\n",
    "    for key, value in kwargs.items():\n",
    "        print(f\"{key}: {value}\")\n",
    "\n",
    "print_info(name=\"Alice\", age=25) \n"
   ]
  },
  {
   "cell_type": "markdown",
   "metadata": {},
   "source": [
    "### Recursive Functions\n",
    "\n",
    "- A recursive function is a function that calls itself in order to solve a problem."
   ]
  },
  {
   "cell_type": "code",
   "execution_count": null,
   "metadata": {},
   "outputs": [],
   "source": [
    "# Example: Factorial Function\n",
    "\n",
    "def factorial(n):\n",
    "    if n == 1:\n",
    "        return 1\n",
    "    else:\n",
    "        return n * factorial(n - 1)\n",
    "\n",
    "print(factorial(5)) \n"
   ]
  },
  {
   "cell_type": "markdown",
   "metadata": {},
   "source": [
    "###  Anonymous Functions (Lambda Functions)\n",
    "\n",
    "- Lambda functions are small anonymous functions defined using the lambda keyword. They can have any number of arguments but only one expression.\n",
    "\n",
    "*lambda arguments: expression*\n"
   ]
  },
  {
   "cell_type": "code",
   "execution_count": null,
   "metadata": {},
   "outputs": [],
   "source": [
    "# Lambda function example\n",
    "\n",
    "square = lambda x: x * x\n",
    "print(square(5))  # Output: 25\n",
    "\n",
    "# Using lambda with map\n",
    "numbers = [1, 2, 3, 4]\n",
    "squared_numbers = map(lambda x: x * x, numbers)\n",
    "print(list(squared_numbers))  # Output: [1, 4, 9, 16]"
   ]
  },
  {
   "cell_type": "markdown",
   "metadata": {},
   "source": [
    "### Built-in Functions\n",
    "\n",
    "- Python has many built-in functions like print(), len(), type(), etc."
   ]
  },
  {
   "cell_type": "markdown",
   "metadata": {},
   "source": [
    "### Higher-Order Functions\n",
    "\n",
    "- A higher-order function is a function that takes another function as an argument or returns a function as a result."
   ]
  },
  {
   "cell_type": "code",
   "execution_count": null,
   "metadata": {},
   "outputs": [],
   "source": [
    "# HOF Example \n",
    "\n",
    "def apply_func(func, value):\n",
    "    return func(value)\n",
    "\n",
    "print(apply_func(square, 5)) \n"
   ]
  },
  {
   "cell_type": "markdown",
   "metadata": {},
   "source": [
    "### Scope and Lifetime of Variables"
   ]
  },
  {
   "cell_type": "code",
   "execution_count": null,
   "metadata": {},
   "outputs": [],
   "source": [
    "# Local Scope\n",
    "# Variables defined within a function are local to that function.\n",
    "\n",
    "def func():\n",
    "    local_var = 10\n",
    "    print(local_var)\n",
    "\n",
    "func()  # Output: 10\n",
    "# print(local_var)  # ******* This would raise an error because local_var is not defined outside the function.\n",
    "\n",
    "\n",
    "# Global Scope\n",
    "# Variables defined outside any function are global and can be accessed anywhere in the code.\n",
    "\n",
    "\n",
    "global_var = 20\n",
    "\n",
    "def func():\n",
    "    print(global_var)\n",
    "\n",
    "func() \n",
    "\n",
    "# Nonlocal Scope\n",
    "# The nonlocal keyword allows you to assign to variables in an enclosing scope.\n",
    "\n",
    "def outer_func():\n",
    "    outer_var = \"outer\"\n",
    "    \n",
    "    def inner_func():\n",
    "        nonlocal outer_var\n",
    "        outer_var = \"inner\"\n",
    "    \n",
    "    inner_func()\n",
    "    print(outer_var)\n",
    "\n",
    "outer_func() \n"
   ]
  },
  {
   "cell_type": "markdown",
   "metadata": {},
   "source": [
    "### Function Arguments Passing Types\n",
    "\n",
    "#### Pass by Reference vs Pass by Value\n",
    "\n",
    "**Python uses a mechanism known as \"call by object reference\" or \"call by sharing\".**\n",
    "\n",
    "- Immutable Objects: When passing immutable objects like integers, strings, or tuples, Python behaves as if they were passed by value.\n",
    "\n",
    "- Mutable Objects: When passing mutable objects like lists or dictionaries, Python behaves as if they were passed by reference."
   ]
  },
  {
   "cell_type": "code",
   "execution_count": null,
   "metadata": {},
   "outputs": [],
   "source": [
    "# Immutable example\n",
    "def modify(x):\n",
    "    x = 10\n",
    "\n",
    "a = 5\n",
    "modify(a)\n",
    "print(a)  \n",
    "\n",
    "# Mutable example\n",
    "def append_item(lst):\n",
    "    lst.append(4)\n",
    "\n",
    "my_list = [1, 2, 3]\n",
    "append_item(my_list)\n",
    "print(my_list)  \n"
   ]
  }
 ],
 "metadata": {
  "kernelspec": {
   "display_name": "Python 3",
   "language": "python",
   "name": "python3"
  },
  "language_info": {
   "codemirror_mode": {
    "name": "ipython",
    "version": 3
   },
   "file_extension": ".py",
   "mimetype": "text/x-python",
   "name": "python",
   "nbconvert_exporter": "python",
   "pygments_lexer": "ipython3",
   "version": "3.12.3"
  }
 },
 "nbformat": 4,
 "nbformat_minor": 2
}
