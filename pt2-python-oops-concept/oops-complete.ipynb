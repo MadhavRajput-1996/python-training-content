{
 "cells": [
  {
   "cell_type": "markdown",
   "metadata": {},
   "source": [
    "### Class is a blueprint for creating objects (instances) which defines its propertie(attributes) and behaviors (methods). It serves as a template or a structure that defines the data and the code to operate on that data.\n",
    "\n",
    "### An object is an instance of a class\n"
   ]
  },
  {
   "cell_type": "code",
   "execution_count": null,
   "metadata": {},
   "outputs": [],
   "source": [
    "# Example of class\n",
    "\n",
    "class Car:\n",
    "    # Class attribute\n",
    "    category = \"vehicle\"\n",
    "\n",
    "    # Constructor (initializer method)\n",
    "    def __init__(self, make, model, year):\n",
    "        # Instance attributes\n",
    "        self.make = make\n",
    "        self.model = model\n",
    "        self.year = year\n",
    "\n",
    "    # Instance method\n",
    "    def display_info(self):\n",
    "        print(f\"{self.year} {self.make} {self.model}\")\n",
    "\n",
    "    # Another instance method\n",
    "    def drive(self):\n",
    "        print(f\"The {self.make} {self.model} is now being driven.\")\n",
    "\n",
    "# Creating objects (instances) of the Car class\n",
    "car1 = Car(\"Toyota\", \"Camry\", 2022)\n",
    "car2 = Car(\"Tesla\", \"Model S\", 2023)\n",
    "\n",
    "# Accessing attributes and calling methods of objects\n",
    "print(car1.make)       # Output: Toyota\n",
    "print(car2.model)      # Output: Model S\n",
    "car1.display_info()    # Output: 2022 Toyota Camry\n",
    "car2.drive()           # Output: The Tesla Model S is now being driven.\n"
   ]
  },
  {
   "cell_type": "markdown",
   "metadata": {},
   "source": [
    "#### In Python, self is a reference to the current instance of a class. It allows you to access the instance's attributes and methods from within the class definition.\n",
    "\n",
    "#### Understanding self in Detail:\n",
    "\n",
    "#### self helps maintain the distinction between instance-level attributes (unique to each object) and other variables or parameters within the class.\n",
    "\n",
    "**Purpose:**\n",
    "\n",
    "self is used as the first parameter to instance methods within a class.\n",
    "It helps Python differentiate between instance attributes (belonging to the current object) and local variables or parameters used within the method.\n",
    "\n",
    "**Usage in Constructor** (__init__):\n",
    "\n",
    "In the __init__ method (which is the constructor in Python), self refers to the newly created instance of the class.\n",
    "When you create an instance of a class (e.g., car1 = Car(\"Toyota\", \"Camry\", 2022)), Python automatically passes the instance (car1 in this case) as self to the __init__ method."
   ]
  },
  {
   "cell_type": "markdown",
   "metadata": {},
   "source": [
    "### Inheritance\n",
    "\n",
    "- Inheritance allows one class (subclass) to inherit the attributes and methods of another class (superclass). It promotes code reuse and supports the \"is-a\" relationship.\n"
   ]
  },
  {
   "cell_type": "code",
   "execution_count": null,
   "metadata": {},
   "outputs": [],
   "source": [
    "# Example\n",
    "\n",
    "class Car:\n",
    "    def __init__(self, make, model):\n",
    "        self.make = make\n",
    "        self.model = model\n",
    "    \n",
    "    def display_info(self):\n",
    "        print(f\"Car: {self.make} {self.model}\")\n",
    "\n",
    "# Creating objects\n",
    "car1 = Car(\"Toyota\", \"Corolla\")\n",
    "car2 = Car(\"Honda\", \"Civic\")\n",
    "\n",
    "# Accessing attributes and methods\n",
    "car1.display_info()  \n",
    "car2.display_info()  \n",
    "\n",
    "\n",
    "# ****************Inheriting below***********************\n",
    "\n",
    "class ElectricCar(Car):\n",
    "    def __init__(self, make, model, battery):\n",
    "        super().__init__(make, model)\n",
    "        self.battery = battery\n",
    "    \n",
    "    def display_info(self):\n",
    "        print(f\"Electric Car: {self.make} {self.model}, Battery: {self.battery} kWh\")\n",
    "\n",
    "# Creating an object of subclass ElectricCar\n",
    "electric_car = ElectricCar(\"Tesla\", \"Model S\", 100)\n",
    "\n",
    "# Accessing inherited and overridden methods\n",
    "electric_car.display_info()\n"
   ]
  },
  {
   "cell_type": "markdown",
   "metadata": {},
   "source": [
    "### There are several types of inheritance in Python"
   ]
  },
  {
   "cell_type": "code",
   "execution_count": null,
   "metadata": {},
   "outputs": [],
   "source": [
    "# Single Inheritance:\n",
    "# A subclass inherits from one superclass.\n",
    "\n",
    "class Animal:\n",
    "    def sound(self):\n",
    "        return \"Some generic sound\"\n",
    "\n",
    "class Dog(Animal):\n",
    "    def sound(self):\n",
    "        return \"Bark\"\n",
    "\n",
    "dog = Dog()\n",
    "print(dog.sound())  # Output: Bark\n"
   ]
  },
  {
   "cell_type": "code",
   "execution_count": null,
   "metadata": {},
   "outputs": [],
   "source": [
    "# Multiple Inheritance:\n",
    "# A subclass inherits from more than one superclass.\n",
    "\n",
    "class Flyer:\n",
    "    def fly(self):\n",
    "        return \"Flying\"\n",
    "\n",
    "class Swimmer:\n",
    "    def swim(self):\n",
    "        return \"Swimming\"\n",
    "\n",
    "class Duck(Flyer, Swimmer):\n",
    "    def quack(self):\n",
    "        return \"Quack\"\n",
    "\n",
    "duck = Duck()\n",
    "print(duck.fly())    # Output: Flying\n",
    "print(duck.swim())   # Output: Swimming\n",
    "print(duck.quack())  # Output: Quack\n"
   ]
  },
  {
   "cell_type": "code",
   "execution_count": null,
   "metadata": {},
   "outputs": [],
   "source": [
    "# Multilevel Inheritance:\n",
    "# A subclass inherits from another subclass, creating a chain of inheritance.\n",
    "\n",
    "class Animal:\n",
    "    def sound(self):\n",
    "        return \"Some generic sound\"\n",
    "\n",
    "class Mammal(Animal):\n",
    "    def category(self):\n",
    "        return \"Mammal\"\n",
    "\n",
    "class Dog(Mammal):\n",
    "    def sound(self):\n",
    "        return \"Bark\"\n",
    "\n",
    "dog = Dog()\n",
    "print(dog.category())  # Output: Mammal\n",
    "print(dog.sound())     # Output: Bark\n"
   ]
  },
  {
   "cell_type": "code",
   "execution_count": null,
   "metadata": {},
   "outputs": [],
   "source": [
    "# Hierarchical Inheritance:\n",
    "# Multiple subclasses inherit from a single superclass.\n",
    "\n",
    "class Animal:\n",
    "    def sound(self):\n",
    "        return \"Some generic sound\"\n",
    "\n",
    "class Dog(Animal):\n",
    "    def sound(self):\n",
    "        return \"Bark\"\n",
    "\n",
    "class Cat(Animal):\n",
    "    def sound(self):\n",
    "        return \"Meow\"\n",
    "\n",
    "dog = Dog()\n",
    "cat = Cat()\n",
    "print(dog.sound())  # Output: Bark\n",
    "print(cat.sound())  # Output: Meow\n"
   ]
  },
  {
   "cell_type": "code",
   "execution_count": null,
   "metadata": {},
   "outputs": [],
   "source": [
    "# Hybrid Inheritance:\n",
    "# A combination of two or more types of inheritance.\n",
    "\n",
    "class Animal:\n",
    "    def sound(self):\n",
    "        return \"Some generic sound\"\n",
    "\n",
    "class Mammal(Animal):\n",
    "    def category(self):\n",
    "        return \"Mammal\"\n",
    "\n",
    "class Flyer:\n",
    "    def fly(self):\n",
    "        return \"Flying\"\n",
    "\n",
    "class Bat(Mammal, Flyer):\n",
    "    def sound(self):\n",
    "        return \"Screech\"\n",
    "\n",
    "bat = Bat()\n",
    "print(bat.category())  # Output: Mammal\n",
    "print(bat.fly())       # Output: Flying\n",
    "print(bat.sound())     # Output: Screech\n"
   ]
  },
  {
   "cell_type": "markdown",
   "metadata": {},
   "source": [
    "### Encapsulation in Python is a concept that allows bundling data (attributes) and methods (functions) together within a class. It helps in hiding the internal state of an object and restricts direct access to its properties from outside the class.\n",
    "\n",
    "- Encapsulation helps in hiding the internal representation of an object from the outside world and protecting it from direct access. It enforces access restrictions to the class members."
   ]
  },
  {
   "cell_type": "code",
   "execution_count": null,
   "metadata": {},
   "outputs": [],
   "source": [
    "# Example 1 \n",
    "\n",
    "class BankAccount:\n",
    "    def __init__(self, account_number, balance):\n",
    "        self.account_number = account_number\n",
    "        self.__balance = balance  # Private attribute\n",
    "        \n",
    "    def deposit(self, amount):\n",
    "        if amount > 0:\n",
    "            self.__balance += amount\n",
    "            print(f\"Deposited {amount} units. Current balance: {self.__balance}\")\n",
    "\n",
    "    def withdraw(self, amount):\n",
    "        if amount > 0 and amount <= self.__balance:\n",
    "            self.__balance -= amount\n",
    "            print(f\"Withdrew {amount} units. Current balance: {self.__balance}\")\n",
    "        else:\n",
    "            print(\"Insufficient funds for withdrawal.\")\n",
    "\n",
    "# Creating an instance of BankAccount\n",
    "account = BankAccount(\"123456789\", 1000)\n",
    "\n",
    "# Try to access private attribute directly\n",
    "# This will result in an AttributeError\n",
    "# Uncomment the line below to see the error\n",
    "# print(account.__balance)\n",
    "\n",
    "# Deposit and withdraw money using public methods\n",
    "account.deposit(500)\n",
    "account.withdraw(200)\n",
    "\n",
    "\n",
    "# In the above example, we have encapsulated the balance attribute by making it private (using double underscore __ prefix). \n",
    "# We access and modify the balance using the public methods deposit and withdraw. \n",
    "# This way, we protect the balance attribute from external modifications and provide controlled access through these public methods.\n"
   ]
  },
  {
   "cell_type": "code",
   "execution_count": null,
   "metadata": {},
   "outputs": [],
   "source": [
    "# Example 2 \n",
    "\n",
    "class Person:\n",
    "    def __init__(self, name, age):\n",
    "        self.name = name\n",
    "        self.age = age\n",
    "\n",
    "    def display_info(self):\n",
    "        print(f\"Name: {self.name}, Age: {self.age}\")\n",
    "\n",
    "# Creating an instance of Person\n",
    "person = Person(\"Alice\", 30)\n",
    "\n",
    "# Accessing attributes directly\n",
    "print(person.name)\n",
    "\n",
    "# Accessing attributes through a method\n",
    "person.display_info()"
   ]
  },
  {
   "cell_type": "markdown",
   "metadata": {},
   "source": [
    "### Polymorphism in Python means \"many forms\" and refers to the ability of different objects to be treated as instances of the same class through a common interface. It allows the same method to operate on different types of objects.\n",
    "\n",
    "#### Aspects of Polymorphism\n",
    "\n",
    "- Method Overriding\n",
    "- Method Overloading (through default/variable arguments)\n",
    "- Duck Typing"
   ]
  },
  {
   "cell_type": "code",
   "execution_count": null,
   "metadata": {},
   "outputs": [],
   "source": [
    "class Animal:\n",
    "    def sound(self):\n",
    "        pass\n",
    "\n",
    "class Dog(Animal):\n",
    "    def sound(self):\n",
    "        print(\"Bark\")\n",
    "\n",
    "class Cat(Animal):\n",
    "    def sound(self):\n",
    "        print(\"Meow\")\n",
    "\n",
    "# Polymorphic function\n",
    "def make_sound(animal):\n",
    "    animal.sound()\n",
    "\n",
    "# Creating objects of different classes\n",
    "dog = Dog()\n",
    "cat = Cat()\n",
    "\n",
    "# Calling the polymorphic function\n",
    "make_sound(dog)  # Output: Bark\n",
    "make_sound(cat)  # Output: Meow\n"
   ]
  },
  {
   "cell_type": "code",
   "execution_count": null,
   "metadata": {},
   "outputs": [],
   "source": [
    "# Method overriding allows a subclass to provide a specific implementation of a method that is already defined in its superclass.\n",
    "\n",
    "class Animal:\n",
    "    def sound(self):\n",
    "        return \"Some sound\"\n",
    "\n",
    "class Dog(Animal):\n",
    "    def sound(self):\n",
    "        return \"Woof\"\n",
    "\n",
    "class Cat(Animal):\n",
    "    def sound(self):\n",
    "        return \"Meow\"\n",
    "\n",
    "# Example usage\n",
    "animals = [Dog(), Cat()]\n",
    "\n",
    "for animal in animals:\n",
    "    print(animal.sound())\n"
   ]
  },
  {
   "cell_type": "code",
   "execution_count": null,
   "metadata": {},
   "outputs": [],
   "source": [
    "# Method Overloading (Using Default/Variable Arguments)\n",
    "# Python does not support method overloading in the traditional sense but you can \n",
    "# achieve similar behavior using default or variable-length arguments.\n",
    "\n",
    "\n",
    "class Calculator:\n",
    "    def add(self, a, b, c=0):\n",
    "        return a + b + c\n",
    "\n",
    "# Example usage\n",
    "calc = Calculator()\n",
    "print(calc.add(1, 2))    # Outputs: 3\n",
    "print(calc.add(1, 2, 3)) # Outputs: 6\n"
   ]
  },
  {
   "cell_type": "code",
   "execution_count": null,
   "metadata": {},
   "outputs": [],
   "source": [
    "# Duck Typing\n",
    "# Duck typing allows for polymorphism based on the methods an object supports rather than its class inheritance.\n",
    "\n",
    "class Bird:\n",
    "    def fly(self):\n",
    "        return \"Bird is flying\"\n",
    "\n",
    "class Airplane:\n",
    "    def fly(self):\n",
    "        return \"Airplane is flying\"\n",
    "\n",
    "# Example usage\n",
    "def lift_off(flyable):\n",
    "    print(flyable.fly())\n",
    "\n",
    "bird = Bird()\n",
    "airplane = Airplane()\n",
    "\n",
    "lift_off(bird)       # Outputs: Bird is flying\n",
    "lift_off(airplane)   # Outputs: Airplane is flying\n"
   ]
  },
  {
   "cell_type": "code",
   "execution_count": null,
   "metadata": {},
   "outputs": [],
   "source": [
    "# Polymorphism with Functions\n",
    "\n",
    "class Bird:\n",
    "    def fly(self):\n",
    "        return \"Bird is flying\"\n",
    "\n",
    "class Airplane:\n",
    "    def fly(self):\n",
    "        return \"Airplane is flying\"\n",
    "\n",
    "# Example usage\n",
    "def lift_off(flyable_object):\n",
    "    print(flyable_object.fly())\n",
    "\n",
    "bird = Bird()\n",
    "airplane = Airplane()\n",
    "\n",
    "lift_off(bird)       # Outputs: Bird is flying\n",
    "lift_off(airplane)   # Outputs: Airplane is flying\n"
   ]
  },
  {
   "cell_type": "markdown",
   "metadata": {},
   "source": [
    "### Modules and Packages\n",
    "\n",
    " - Modules: A module is a file containing Python definitions (functions, classes, variables) and statements. It allows you to logically organize Python code.\n",
    "\n",
    " - Packages: Packages are namespaces that contain multiple modules. They are directories with an __init__.py file that can be imported to provide hierarchical structuring."
   ]
  },
  {
   "cell_type": "markdown",
   "metadata": {},
   "source": [
    "# Creating a module"
   ]
  },
  {
   "cell_type": "code",
   "execution_count": null,
   "metadata": {},
   "outputs": [],
   "source": [
    "# mymodule.py\n",
    "\n",
    "def greet(name):\n",
    "    return f\"Hello, {name}!\"\n",
    "\n",
    "def add(a, b):\n",
    "    return a + b"
   ]
  },
  {
   "cell_type": "markdown",
   "metadata": {},
   "source": [
    "# Using a Module\n",
    "# To use the functions defined in mymodule.py, you can import the module into another script:"
   ]
  },
  {
   "cell_type": "code",
   "execution_count": null,
   "metadata": {},
   "outputs": [],
   "source": [
    "# main.py\n",
    "\n",
    "import mymodule\n",
    "\n",
    "print(mymodule.greet(\"Alice\"))  # Output: Hello, Alice!\n",
    "print(mymodule.add(3, 4))       # Output: 7\n",
    "\n",
    "# You can also import specific functions from the module:\n",
    "\n",
    "# main.py\n",
    "\n",
    "from mymodule import greet, add\n",
    "\n",
    "print(greet(\"Bob\"))  # Output: Hello, Bob!\n",
    "print(add(5, 6))     # Output: 11\n"
   ]
  },
  {
   "cell_type": "markdown",
   "metadata": {},
   "source": [
    "**Modules:** Single .py files containing Python code.\n",
    "**Packages:** Directories containing multiple modules and an __init__.py file."
   ]
  },
  {
   "cell_type": "markdown",
   "metadata": {},
   "source": [
    "### __name__ and __main__\n",
    "\n",
    "- When a Python script is executed, the __name__ variable is set to __main__. This allows you to check if the script is being run directly or being imported as a module.\n",
    "\n",
    "\n",
    "\n",
    "\n",
    "__name__ \n",
    "  - is a special built-in variable in Python.\n",
    "  - It gets its value depending on how the script is executed.\n",
    "\n",
    "__main__ \n",
    "  - is the name of the scope in which top-level code runs."
   ]
  },
  {
   "cell_type": "code",
   "execution_count": null,
   "metadata": {},
   "outputs": [],
   "source": [
    "# my_module.py\n",
    "def greet():\n",
    "    print(\"Hello from my_module!\")\n",
    "\n",
    "def main():\n",
    "    print(\"This is the main function in my_module.\")\n",
    "\n",
    "if __name__ == \"__main__\":\n",
    "    main()\n",
    "    \n",
    "    \n",
    "# If you run python my_module.py:\n",
    "\n",
    "# The output will be: This is the main function in my_module.\n",
    "# This is because __name__ is set to \"__main__\" when the script is run directly.\n",
    "\n",
    "\n",
    "\n",
    "# If you import my_module in another script:\n",
    "\n",
    "# another_script.py\n",
    "import my_module\n",
    "\n",
    "my_module.greet()\n",
    "\n",
    "\n",
    "# The output will be: Hello from my_module!\n",
    "# The main() function in my_module.py will not run because __name__ is set to \"my_module\" (the module's name) when it is imported."
   ]
  },
  {
   "cell_type": "code",
   "execution_count": null,
   "metadata": {},
   "outputs": [],
   "source": [
    "# my_module.py\n",
    "def main():\n",
    "    print(\"This is the main function.\")\n",
    "\n",
    "if __name__ == \"__main__\":\n",
    "    main()\n",
    "\n",
    "\n",
    "# If you run python my_module.py, it will print This is the main function., \n",
    "# but if you import it as a module, the main() function won't be executed automatically."
   ]
  },
  {
   "cell_type": "markdown",
   "metadata": {},
   "source": [
    "### Scope\n",
    "\n",
    "- Scope refers to the region of the program where a variable is accessible. Python uses LEGB (Local, Enclosing, Global, Built-in) rule for variable scope."
   ]
  },
  {
   "cell_type": "code",
   "execution_count": null,
   "metadata": {},
   "outputs": [],
   "source": [
    "def outer_function():\n",
    "    outer_var = \"outer\"\n",
    "\n",
    "    def inner_function():\n",
    "        inner_var = \"inner\"\n",
    "        print(outer_var)  # Can access outer_var\n",
    "        print(inner_var)  # Can access inner_var\n",
    "    \n",
    "    inner_function()\n",
    "    # print(inner_var)  # Error: inner_var is not accessible here\n",
    "\n",
    "outer_function()\n"
   ]
  }
 ],
 "metadata": {
  "language_info": {
   "name": "python"
  }
 },
 "nbformat": 4,
 "nbformat_minor": 2
}
