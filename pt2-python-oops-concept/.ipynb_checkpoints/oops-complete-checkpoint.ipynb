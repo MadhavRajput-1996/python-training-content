{
 "cells": [
  {
   "cell_type": "markdown",
   "metadata": {},
   "source": [
    "### Class is a blueprint for creating objects (instances) which defines its propertie(attributes) and behaviors (methods). It serves as a template or a structure that defines the data and the code to operate on that data.\n",
    "\n",
    "### An object is an instance of a class\n"
   ]
  },
  {
   "cell_type": "markdown",
   "metadata": {},
   "source": [
    " #### In Python, self is a reference to the current instance of a class. It allows you to access the instance's attributes and methods from within the class definition.\n",
    "\n",
    "#### Understanding self in Detail:\n",
    "\n",
    "#### self helps maintain the distinction between instance-level attributes (unique to each object) and other variables or parameters within the class.\n",
    "\n",
    "**Purpose:**\n",
    "\n",
    "self is used as the first parameter to instance methods within a class.\n",
    "It helps Python differentiate between instance attributes (belonging to the current object) and local variables or parameters used within the method.\n",
    "\n",
    "**Usage in Constructor** (__init__):\n",
    "\n",
    "In the __init__ method (which is the constructor in Python), self refers to the newly created instance of the class.\n",
    "When you create an instance of a class (e.g., car1 = Car(\"Toyota\", \"Camry\", 2022)), Python automatically passes the instance (car1 in this case) as self to the __init__ method."
   ]
  },
  {
   "cell_type": "code",
   "execution_count": null,
   "metadata": {},
   "outputs": [],
   "source": [
    "# Example of class\n",
    "\n",
    "class Car:\n",
    "    # Class attribute\n",
    "    category = \"vehicle\"\n",
    "\n",
    "    # Constructor (initializer method)\n",
    "    def __init__(self, make, model, year):\n",
    "        # Instance attributes\n",
    "        self.make = make\n",
    "        self.model = model\n",
    "        self.year = year\n",
    "\n",
    "    # Instance method\n",
    "    def display_info(self):\n",
    "        print(f\"{self.year} {self.make} {self.model}\")\n",
    "\n",
    "    # Another instance method\n",
    "    def drive(self):\n",
    "        print(f\"The {self.make} {self.model} is now being driven.\")\n",
    "\n",
    "# Creating objects (instances) of the Car class\n",
    "car1 = Car(\"Toyota\", \"Camry\", 2022)\n",
    "car2 = Car(\"Tesla\", \"Model S\", 2023)\n",
    "\n",
    "# Accessing attributes and calling methods of objects\n",
    "print(car1.make)       # Output: Toyota\n",
    "print(car2.model)      # Output: Model S\n",
    "car1.display_info()    # Output: 2022 Toyota Camry\n",
    "car2.drive()           # Output: The Tesla Model S is now being driven.\n"
   ]
  }
 ],
 "metadata": {
  "language_info": {
   "name": "python"
  }
 },
 "nbformat": 4,
 "nbformat_minor": 2
}
