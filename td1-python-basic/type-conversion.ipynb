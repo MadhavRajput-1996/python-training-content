{
 "cells": [
  {
   "cell_type": "markdown",
   "metadata": {},
   "source": [
    "## Type conversion, also known as type casting, is the process of converting one data type into another. In Python, this is often necessary when operations or functions expect arguments of a specific type that differs from the current type of the variable or value."
   ]
  },
  {
   "cell_type": "markdown",
   "metadata": {
    "vscode": {
     "languageId": "plaintext"
    }
   },
   "source": [
    "### Python supports several built-in functions for type conversion:"
   ]
  },
  {
   "cell_type": "code",
   "execution_count": 1,
   "metadata": {},
   "outputs": [
    {
     "name": "stdout",
     "output_type": "stream",
     "text": [
      "123\n"
     ]
    }
   ],
   "source": [
    "# int(): Converts a number or string containing a numeric representation into an integer.\n",
    "\n",
    "num_str = \"123\"\n",
    "num_int = int(num_str)\n",
    "print(num_int) \n"
   ]
  },
  {
   "cell_type": "code",
   "execution_count": 2,
   "metadata": {},
   "outputs": [
    {
     "name": "stdout",
     "output_type": "stream",
     "text": [
      "123.45\n"
     ]
    }
   ],
   "source": [
    "# float(): Converts a number or string containing a numeric representation into a floating-point number.\n",
    "\n",
    "num_str = \"123.45\"\n",
    "num_float = float(num_str)\n",
    "print(num_float)"
   ]
  },
  {
   "cell_type": "code",
   "execution_count": 3,
   "metadata": {},
   "outputs": [
    {
     "name": "stdout",
     "output_type": "stream",
     "text": [
      "123\n"
     ]
    }
   ],
   "source": [
    "# str(): Converts an object into a string representation.\n",
    "\n",
    "num_int = 123\n",
    "num_str = str(num_int)\n",
    "print(num_str) "
   ]
  },
  {
   "cell_type": "code",
   "execution_count": 4,
   "metadata": {},
   "outputs": [
    {
     "name": "stdout",
     "output_type": "stream",
     "text": [
      "True\n"
     ]
    }
   ],
   "source": [
    "# bool(): Converts a value into a boolean (True or False).\n",
    "\n",
    "value = 1\n",
    "bool_value = bool(value)\n",
    "print(bool_value) "
   ]
  },
  {
   "cell_type": "code",
   "execution_count": 5,
   "metadata": {},
   "outputs": [
    {
     "name": "stdout",
     "output_type": "stream",
     "text": [
      "[1, 2, 3]\n"
     ]
    }
   ],
   "source": [
    "# list(): Converts an iterable (like a tuple or string) into a list.\n",
    "\n",
    "tup = (1, 2, 3)\n",
    "list_tup = list(tup)\n",
    "print(list_tup)"
   ]
  },
  {
   "cell_type": "code",
   "execution_count": 6,
   "metadata": {},
   "outputs": [
    {
     "name": "stdout",
     "output_type": "stream",
     "text": [
      "(1, 2, 3)\n"
     ]
    }
   ],
   "source": [
    "# tuple(): Converts an iterable (like a list or string) into a tuple.\n",
    "\n",
    "lst = [1, 2, 3]\n",
    "tup_lst = tuple(lst)\n",
    "print(tup_lst)"
   ]
  },
  {
   "cell_type": "code",
   "execution_count": 7,
   "metadata": {},
   "outputs": [
    {
     "name": "stdout",
     "output_type": "stream",
     "text": [
      "{1, 2, 3}\n"
     ]
    }
   ],
   "source": [
    "# set(): Converts an iterable (like a list, tuple, or string) into a set.\n",
    "\n",
    "lst = [1, 2, 2, 3]\n",
    "set_lst = set(lst)\n",
    "print(set_lst) "
   ]
  },
  {
   "cell_type": "code",
   "execution_count": 8,
   "metadata": {},
   "outputs": [
    {
     "name": "stdout",
     "output_type": "stream",
     "text": [
      "{'a': 1, 'b': 2}\n"
     ]
    }
   ],
   "source": [
    "# dict(): Converts a sequence of key-value pairs (as tuples or lists of tuples) into a dictionary.\n",
    "\n",
    "pairs = [(\"a\", 1), (\"b\", 2)]\n",
    "dict_pairs = dict(pairs)\n",
    "print(dict_pairs) "
   ]
  }
 ],
 "metadata": {
  "kernelspec": {
   "display_name": "Python 3",
   "language": "python",
   "name": "python3"
  },
  "language_info": {
   "codemirror_mode": {
    "name": "ipython",
    "version": 3
   },
   "file_extension": ".py",
   "mimetype": "text/x-python",
   "name": "python",
   "nbconvert_exporter": "python",
   "pygments_lexer": "ipython3",
   "version": "3.12.3"
  }
 },
 "nbformat": 4,
 "nbformat_minor": 2
}
