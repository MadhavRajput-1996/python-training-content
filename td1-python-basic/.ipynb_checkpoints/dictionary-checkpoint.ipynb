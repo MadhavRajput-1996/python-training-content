{
 "cells": [
  {
   "cell_type": "markdown",
   "metadata": {},
   "source": [
    "## Dictionaries in Python are a collection of key-value pairs, where each key is unique and maps to a specific value. They are mutable, meaning you can change them after creation, and they provide fast access to data. Dictionaries are defined using curly braces {}."
   ]
  },
  {
   "cell_type": "markdown",
   "metadata": {},
   "source": [
    "## Creating a Dictionary"
   ]
  },
  {
   "cell_type": "code",
   "execution_count": null,
   "metadata": {},
   "outputs": [],
   "source": [
    "# Using curly braces\n",
    "\n",
    "my_dict = {\n",
    "    \"name\": \"Alice\",\n",
    "    \"age\": 25,\n",
    "    \"city\": \"New York\"\n",
    "}\n",
    "\n",
    "# Using the dict() constructor\n",
    "\n",
    "my_dict = dict(name=\"Alice\", age=25, city=\"New York\")\n",
    "\n",
    "# Accessing Values\n",
    "\n",
    "print(my_dict[\"name\"])  \n"
   ]
  },
  {
   "cell_type": "markdown",
   "metadata": {},
   "source": [
    "## Modifying a Dictionary\n",
    "\n",
    "\n"
   ]
  },
  {
   "cell_type": "code",
   "execution_count": null,
   "metadata": {},
   "outputs": [],
   "source": [
    "# Adding or updating an entry:\n",
    "\n",
    "my_dict[\"email\"] = \"alice@example.com\" \n",
    "my_dict[\"age\"] = 26           \n",
    "\n",
    "# Removing an entry:     \n",
    "\n",
    "del my_dict[\"city\"]                    \n",
    "age = my_dict.pop(\"age\")                \n",
    "print(age)          \n",
    "\n",
    "# Clearing all entries:\n",
    "\n",
    "my_dict.clear()                        \n",
    "print(my_dict)                        \n",
    "\n",
    "      \n",
    "                \n",
    "    \n"
   ]
  },
  {
   "cell_type": "markdown",
   "metadata": {},
   "source": [
    "## Dictionary Methods\n",
    "### Dictionaries come with various methods to help manage and manipulate them:\n",
    "\n",
    "- keys(): Returns a view object of all keys.\n",
    "- values(): Returns a view object of all values.\n",
    "- items(): Returns a view object of all key-value pairs.\n",
    "- update(other_dict): Updates the dictionary with key-value pairs from another dictionary."
   ]
  },
  {
   "cell_type": "code",
   "execution_count": null,
   "metadata": {},
   "outputs": [],
   "source": [
    "person = {\"name\": \"Alice\", \"age\": 25}\n",
    "print(person.keys())  \n",
    "print(person.values()) \n",
    "print(person.items())  \n",
    "\n",
    "person.update({\"city\": \"New York\", \"email\": \"alice@example.com\"})\n",
    "print(person)\n",
    "\n",
    "\n",
    "\n",
    "\n",
    "\n",
    "# Iterating Over a Dictionary\n",
    "\n",
    "for key in person:\n",
    "    print(key)\n",
    "    \n",
    "# Iterating over values:\n",
    "\n",
    "for value in person.values():\n",
    "    print(value)\n",
    "    \n",
    "    \n",
    "# Iterating over key-value pairs:\n",
    "\n",
    "for key, value in person.items():\n",
    "    print(f\"{key}: {value}\")        "
   ]
  },
  {
   "cell_type": "markdown",
   "metadata": {},
   "source": [
    "## Nested Dictionaries"
   ]
  },
  {
   "cell_type": "code",
   "execution_count": null,
   "metadata": {},
   "outputs": [],
   "source": [
    "students = {\n",
    "    \"Alice\": {\"age\": 25, \"city\": \"New York\"},\n",
    "    \"Bob\": {\"age\": 22, \"city\": \"Los Angeles\"}\n",
    "}\n",
    "\n",
    "print(students[\"Alice\"][\"city\"]) "
   ]
  },
  {
   "cell_type": "markdown",
   "metadata": {},
   "source": [
    "## Dictionary Comprehension\n",
    "### Dictionary comprehensions provide a concise way to create dictionaries. They are similar to list comprehensions but generate dictionary objects instead.\n",
    "\n",
    "#### Basic Syntax \n",
    "\n",
    "- *{key: value for item in iterable if condition}*\n",
    "\n",
    "- **key:** The key for the new dictionary.\n",
    "- **value:** The value associated with the key.\n",
    "- **item:** The variable representing the current element in the iteration.\n",
    "- **iterable**: The collection to iterate over.\n",
    "- **condition**(optional): A filter that determines whether the key-value pair is included in the dictionary.\n"
   ]
  },
  {
   "cell_type": "code",
   "execution_count": null,
   "metadata": {},
   "outputs": [],
   "source": [
    "# Examples\n",
    "\n",
    "# Creating a Simple Dictionary\n",
    "\n",
    "squares = {x: x**2 for x in range(6)}\n",
    "print(squares) \n",
    "\n",
    "\n",
    "# Filtering Elements\n",
    "# Creating a dictionary of even numbers and their squares\n",
    "\n",
    "even_squares = {x: x**2 for x in range(10) if x % 2 == 0}\n",
    "print(even_squares)  \n",
    "\n",
    "#  Transforming Elements\n",
    "# Creating a dictionary that maps words to their lengths\n",
    "\n",
    "words = [\"apple\", \"banana\", \"cherry\"]\n",
    "word_lengths = {word: len(word) for word in words}\n",
    "print(word_lengths)  \n",
    "\n",
    "# Creating a Dictionary from a List of Tuples\n",
    "# Given a list of tuples, create a dictionary \n",
    "\n",
    "pairs = [(\"a\", 1), (\"b\", 2), (\"c\", 3)]\n",
    "dict_from_pairs = {key: value for (key, value) in pairs}\n",
    "print(dict_from_pairs)  \n",
    "\n",
    "#  Combining Lists into a Dictionary\n",
    "# Combining two lists into a dictionary\n",
    "\n",
    "keys = [\"name\", \"age\", \"city\"]\n",
    "values = [\"Alice\", 25, \"New York\"]\n",
    "combined_dict = {keys[i]: values[i] for i in range(len(keys))}\n",
    "print(combined_dict)  \n",
    "\n",
    "\n",
    "\n",
    "\n"
   ]
  }
 ],
 "metadata": {
  "language_info": {
   "name": "python"
  }
 },
 "nbformat": 4,
 "nbformat_minor": 2
}
