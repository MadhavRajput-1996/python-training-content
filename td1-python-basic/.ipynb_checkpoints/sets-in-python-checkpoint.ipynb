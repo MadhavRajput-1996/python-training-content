{
 "cells": [
  {
   "cell_type": "markdown",
   "metadata": {},
   "source": [
    "## A set in Python is a data structure that contains an unordered collection of unique and unchangeable elements. They are commonly used for tasks that involve checking for membership, eliminating duplicates from a sequence, and performing mathematical set operations. \n",
    "\n",
    "- Sets are created using curly braces {} or by using the set() constructor.\n",
    "- Sets are mutable objects but cannot contain duplicate elements. "
   ]
  },
  {
   "cell_type": "markdown",
   "metadata": {},
   "source": [
    "### Creating a Set"
   ]
  },
  {
   "cell_type": "code",
   "execution_count": null,
   "metadata": {},
   "outputs": [],
   "source": [
    "# Using curly braces\n",
    "my_set = {1, 2, 3}\n",
    "print(my_set)  # Output: {1, 2, 3}\n",
    "\n",
    "# Using the set() function\n",
    "another_set = set([1, 2, 3, 4])\n",
    "print(another_set)  # Output: {1, 2, 3, 4}\n"
   ]
  },
  {
   "cell_type": "markdown",
   "metadata": {},
   "source": [
    "### Adding Elements"
   ]
  },
  {
   "cell_type": "code",
   "execution_count": null,
   "metadata": {},
   "outputs": [],
   "source": [
    "my_set = {1, 2, 3}\n",
    "my_set.add(4)\n",
    "print(my_set)  # Output: {1, 2, 3, 4}\n"
   ]
  },
  {
   "cell_type": "markdown",
   "metadata": {},
   "source": [
    "### Removing Elements\n",
    "\n",
    "- You can remove elements using the remove() or discard() methods. The remove() method raises a KeyError if the element is not found, while discard() does not."
   ]
  },
  {
   "cell_type": "code",
   "execution_count": null,
   "metadata": {},
   "outputs": [],
   "source": [
    "my_set = {1, 2, 3, 4}\n",
    "my_set.remove(3)\n",
    "print(my_set)  # Output: {1, 2, 4}\n",
    "\n",
    "my_set.discard(4)\n",
    "print(my_set)  # Output: {1, 2}\n",
    "\n",
    "# Using remove() on a non-existing element\n",
    "# my_set.remove(5)  # Raises KeyError\n",
    "\n",
    "# Using discard() on a non-existing element\n",
    "my_set.discard(5)  # No error\n"
   ]
  },
  {
   "cell_type": "markdown",
   "metadata": {},
   "source": [
    "### Set Operations\n",
    "\n",
    "- Sets support various operations, such as union, intersection, difference, and symmetric difference."
   ]
  },
  {
   "cell_type": "markdown",
   "metadata": {},
   "source": [
    "#### Union\n",
    "\n",
    "- The union() method or | operator returns a set that contains all elements from both sets."
   ]
  },
  {
   "cell_type": "code",
   "execution_count": null,
   "metadata": {},
   "outputs": [],
   "source": [
    "set1 = {1, 2, 3}\n",
    "set2 = {3, 4, 5}\n",
    "\n",
    "# Using union() method\n",
    "union_set = set1.union(set2)\n",
    "print(union_set)  # Output: {1, 2, 3, 4, 5}\n",
    "\n",
    "# Using | operator\n",
    "union_set = set1 | set2\n",
    "print(union_set)  # Output: {1, 2, 3, 4, 5}\n"
   ]
  },
  {
   "cell_type": "markdown",
   "metadata": {},
   "source": [
    "#### Intersection\n",
    " \n",
    "- The intersection() method or & operator returns a set that contains only the elements that are present in both sets."
   ]
  },
  {
   "cell_type": "code",
   "execution_count": null,
   "metadata": {},
   "outputs": [],
   "source": [
    "set1 = {1, 2, 3}\n",
    "set2 = {3, 4, 5}\n",
    "\n",
    "# Using intersection() method\n",
    "intersection_set = set1.intersection(set2)\n",
    "print(intersection_set)  # Output: {3}\n",
    "\n",
    "# Using & operator\n",
    "intersection_set = set1 & set2\n",
    "print(intersection_set)  # Output: {3}\n"
   ]
  },
  {
   "cell_type": "markdown",
   "metadata": {},
   "source": [
    "#### Difference \n",
    "\n",
    "- The difference() method or - operator returns a set that contains the elements that are in the first set but not in the second."
   ]
  },
  {
   "cell_type": "code",
   "execution_count": null,
   "metadata": {},
   "outputs": [],
   "source": [
    "set1 = {1, 2, 3}\n",
    "set2 = {3, 4, 5}\n",
    "\n",
    "# Using difference() method\n",
    "difference_set = set1.difference(set2)\n",
    "print(difference_set)  # Output: {1, 2}\n",
    "\n",
    "# Using - operator\n",
    "difference_set = set1 - set2\n",
    "print(difference_set)  # Output: {1, 2}\n"
   ]
  },
  {
   "cell_type": "markdown",
   "metadata": {},
   "source": [
    "#### Symmetric Difference\n",
    "\n",
    "- The symmetric_difference() method or ^ operator returns a set that contains the elements that are in either of the sets but not in both."
   ]
  },
  {
   "cell_type": "code",
   "execution_count": null,
   "metadata": {},
   "outputs": [],
   "source": [
    "set1 = {1, 2, 3}\n",
    "set2 = {3, 4, 5}\n",
    "\n",
    "# Using symmetric_difference() method\n",
    "sym_diff_set = set1.symmetric_difference(set2)\n",
    "print(sym_diff_set)  # Output: {1, 2, 4, 5}\n",
    "\n",
    "# Using ^ operator\n",
    "sym_diff_set = set1 ^ set2\n",
    "print(sym_diff_set)  # Output: {1, 2, 4, 5}\n"
   ]
  },
  {
   "cell_type": "markdown",
   "metadata": {},
   "source": [
    "### Set Methods"
   ]
  },
  {
   "cell_type": "code",
   "execution_count": null,
   "metadata": {},
   "outputs": [],
   "source": [
    "# add()\n",
    "# Adds an element to the set.\n",
    "\n",
    "my_set = {1, 2, 3}\n",
    "my_set.add(4)\n",
    "print(my_set)  # Output: {1, 2, 3, 4}\n",
    "\n",
    "\n",
    "# remove()\n",
    "# Removes an element from the set. Raises KeyError if the element is not found.\n",
    "\n",
    "my_set = {1, 2, 3}\n",
    "my_set.remove(2)\n",
    "print(my_set)  # Output: {1, 3}\n",
    "\n",
    "\n",
    "# discard()\n",
    "# Removes an element from the set if it is a member. Does nothing if the element is not in the set.\n",
    "\n",
    "my_set = {1, 2, 3}\n",
    "my_set.discard(2)\n",
    "print(my_set)  # Output: {1, 3}\n",
    "\n",
    "\n",
    "# pop()\n",
    "# Removes and returns an arbitrary element from the set. Raises KeyError if the set is empty.\n",
    "\n",
    "\n",
    "my_set = {1, 2, 3}\n",
    "popped_element = my_set.pop()\n",
    "print(popped_element)\n",
    "print(my_set)\n",
    "\n",
    "\n",
    "# clear()\n",
    "# Removes all elements from the set.\n",
    "\n",
    "my_set = {1, 2, 3}\n",
    "my_set.clear()\n",
    "print(my_set)  # Output: set()\n",
    "\n",
    "\n",
    "# copy()\n",
    "# Returns a shallow copy of the set.\n",
    "\n",
    "my_set = {1, 2, 3}\n",
    "copied_set = my_set.copy()\n",
    "print(copied_set)  # Output: {1, 2, 3}\n"
   ]
  },
  {
   "cell_type": "markdown",
   "metadata": {},
   "source": [
    "### Other Set Operations"
   ]
  },
  {
   "cell_type": "code",
   "execution_count": null,
   "metadata": {},
   "outputs": [],
   "source": [
    "# Subset and Superset\n",
    "# You can check if a set is a subset or superset of another set using issubset() and issuperset() methods, or using <= and >= operators.\n",
    "\n",
    "set1 = {1, 2, 3}\n",
    "set2 = {1, 2}\n",
    "\n",
    "# Subset\n",
    "print(set2.issubset(set1))  # Output: True\n",
    "print(set2 <= set1)         # Output: True\n",
    "\n",
    "# Superset\n",
    "print(set1.issuperset(set2))  # Output: True\n",
    "print(set1 >= set2)           # Output: True\n",
    "\n",
    "\n",
    "\n",
    "\n",
    "# Disjoint Sets\n",
    "# You can check if two sets have no elements in common using the isdisjoint() method.\n",
    "\n",
    "set1 = {1, 2, 3}\n",
    "set2 = {4, 5, 6}\n",
    "print(set1.isdisjoint(set2))  # Output: True\n",
    "\n"
   ]
  },
  {
   "cell_type": "markdown",
   "metadata": {},
   "source": [
    "### Usage Examples"
   ]
  },
  {
   "cell_type": "code",
   "execution_count": null,
   "metadata": {},
   "outputs": [],
   "source": [
    "# Removing Duplicates\n",
    "# Sets are commonly used to remove duplicates from a list.\n",
    "\n",
    "my_list = [1, 2, 2, 3, 4, 4, 5]\n",
    "my_set = set(my_list)\n",
    "unique_list = list(my_set)\n",
    "print(unique_list)  # Output: [1, 2, 3, 4, 5]\n"
   ]
  },
  {
   "cell_type": "code",
   "execution_count": null,
   "metadata": {},
   "outputs": [],
   "source": [
    "# Membership Testing\n",
    "# Sets are efficient for membership testing due to their underlying hash table implementation.\n",
    "\n",
    "my_set = {1, 2, 3, 4, 5}\n",
    "print(3 in my_set)  # Output: True\n",
    "print(6 in my_set)  # Output: False\n"
   ]
  },
  {
   "cell_type": "code",
   "execution_count": null,
   "metadata": {},
   "outputs": [],
   "source": [
    "# Mathematical Operations\n",
    "# Sets are ideal for representing mathematical sets and performing operations like union, intersection, and difference.\n",
    "\n",
    "evens = {2, 4, 6, 8}\n",
    "odds = {1, 3, 5, 7}\n",
    "primes = {2, 3, 5, 7}\n",
    "\n",
    "# Union of evens and odds\n",
    "numbers = evens | odds\n",
    "print(numbers)  # Output: {1, 2, 3, 4, 5, 6, 7, 8}\n",
    "\n",
    "# Intersection of evens and primes\n",
    "even_primes = evens & primes\n",
    "print(even_primes)  # Output: {2}"
   ]
  }
 ],
 "metadata": {
  "language_info": {
   "name": "python"
  }
 },
 "nbformat": 4,
 "nbformat_minor": 2
}
