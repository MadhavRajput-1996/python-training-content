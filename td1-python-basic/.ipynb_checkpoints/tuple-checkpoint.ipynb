{
 "cells": [
  {
   "cell_type": "markdown",
   "metadata": {},
   "source": [
    "## A tuple in Python is an ordered collection of items, similar to a list. However, there are a few key differences:\n",
    "\n",
    "- Immutability: Once a tuple is created, its contents cannot be changed. This immutability makes tuples useful in situations where a constant set of values is required.\n",
    "- Parentheses: Tuples are defined using parentheses ()"
   ]
  },
  {
   "cell_type": "markdown",
   "metadata": {},
   "source": [
    "### Creating a Tuple"
   ]
  },
  {
   "cell_type": "code",
   "execution_count": null,
   "metadata": {},
   "outputs": [],
   "source": [
    "# Creating an empty tuple\n",
    "empty_tuple = ()\n",
    "\n",
    "# Creating a tuple with one item (note the trailing comma)\n",
    "single_item_tuple = (1,)\n",
    "\n",
    "# Creating a tuple with multiple items\n",
    "multi_item_tuple = (1, 2, 3, 4, 5)\n",
    "\n",
    "# Tuples can hold items of different data types\n",
    "mixed_tuple = (1, \"hello\", 3.14, True)\n"
   ]
  },
  {
   "cell_type": "markdown",
   "metadata": {},
   "source": [
    "### Accessing Tuple Elements"
   ]
  },
  {
   "cell_type": "code",
   "execution_count": null,
   "metadata": {},
   "outputs": [],
   "source": [
    "# Accessing elements in a tuple\n",
    "example_tuple = (10, 20, 30, 40, 50)\n",
    "\n",
    "print(example_tuple[0]) \n",
    "print(example_tuple[3])  \n"
   ]
  },
  {
   "cell_type": "markdown",
   "metadata": {},
   "source": [
    "### Tuple Operations"
   ]
  },
  {
   "cell_type": "code",
   "execution_count": null,
   "metadata": {},
   "outputs": [],
   "source": [
    "# Concatenation\n",
    "tuple1 = (1, 2, 3)\n",
    "tuple2 = (4, 5, 6)\n",
    "concatenated_tuple = tuple1 + tuple2  \n",
    "\n",
    "# Repetition\n",
    "repeated_tuple = tuple1 * 2 \n",
    "\n",
    "# Slicing\n",
    "sliced_tuple = concatenated_tuple[1:4]  \n"
   ]
  },
  {
   "cell_type": "markdown",
   "metadata": {},
   "source": [
    "### Tuple Methods\n",
    "\n",
    "\n",
    "- count(): Returns the number of times a specified value occurs in a tuple.\n",
    "- index(): Searches the tuple for a specified value and returns the position of where it was found."
   ]
  },
  {
   "cell_type": "code",
   "execution_count": null,
   "metadata": {},
   "outputs": [],
   "source": [
    "example_tuple = (1, 2, 3, 1, 4, 1)\n",
    "\n",
    "# Count the number of times 1 appears in the tuple\n",
    "count_of_ones = example_tuple.count(1)  \n",
    "\n",
    "# Find the index of the first occurrence of 3\n",
    "index_of_three = example_tuple.index(3) \n"
   ]
  },
  {
   "cell_type": "markdown",
   "metadata": {},
   "source": [
    "### Using Tuples for Multiple Assignments\n",
    "\n",
    "- Tuples are often used in Python for returning multiple values from a function and for multiple assignments.\n",
    "\n"
   ]
  },
  {
   "cell_type": "code",
   "execution_count": null,
   "metadata": {},
   "outputs": [],
   "source": [
    "# Returning multiple values from a function\n",
    "def get_min_max(numbers):\n",
    "    return min(numbers), max(numbers)\n",
    "\n",
    "min_val, max_val = get_min_max([1, 2, 3, 4, 5])\n",
    "print(min_val)  \n",
    "print(max_val)  \n",
    "\n",
    "# Multiple assignments\n",
    "a, b, c = 1, 2, 3\n",
    "print(a, b, c)  \n"
   ]
  },
  {
   "cell_type": "markdown",
   "metadata": {},
   "source": [
    "### Immutability and Tuples\n",
    "\n",
    "- Since tuples are immutable, you cannot modify their contents after creation. However, if a tuple contains mutable objects like lists, the mutable objects themselves can be changed."
   ]
  },
  {
   "cell_type": "code",
   "execution_count": null,
   "metadata": {},
   "outputs": [],
   "source": [
    "# Tuple containing a list\n",
    "tuple_with_list = (1, 2, [3, 4])\n",
    "\n",
    "# Modifying the list inside the tuple\n",
    "tuple_with_list[2][0] = 'modified'\n",
    "print(tuple_with_list)  \n"
   ]
  },
  {
   "cell_type": "markdown",
   "metadata": {},
   "source": [
    "### Using as Dictionary Keys: \n",
    "\n",
    "- Tuples can be used as keys in dictionaries because they are immutable."
   ]
  },
  {
   "cell_type": "code",
   "execution_count": null,
   "metadata": {},
   "outputs": [],
   "source": [
    "location = {(35.6895, 139.6917): \"Tokyo\", (51.5074, -0.1278): \"London\"}\n",
    "print(location)\n"
   ]
  },
  {
   "cell_type": "markdown",
   "metadata": {},
   "source": [
    "### Packing Tuple\n",
    "\n",
    "- Packing a tuple refers to the process of assigning multiple values to a single tuple    variable. This is a convenient way to group multiple values together."
   ]
  },
  {
   "cell_type": "code",
   "execution_count": null,
   "metadata": {},
   "outputs": [],
   "source": [
    "# Packing a tuple\n",
    "\n",
    "packed_tuple = 1, 2, 3, 4, 5\n",
    "print(packed_tuple)  \n"
   ]
  },
  {
   "cell_type": "markdown",
   "metadata": {},
   "source": [
    "### Unpacking Tuples\n",
    "\n",
    "- Unpacking a tuple is the process of extracting the values from a tuple and assigning them to individual variables. The number of variables on the left-hand side must match the number of values in the tuple."
   ]
  },
  {
   "cell_type": "code",
   "execution_count": null,
   "metadata": {},
   "outputs": [],
   "source": [
    "# Unpacking a tuple\n",
    "\n",
    "packed_tuple = (1, 2, 3, 4, 5)\n",
    "a, b, c, d, e = packed_tuple\n",
    "print(a, b, c, d, e)  # Output: 1 2 3 4 5\n",
    "\n",
    "\n",
    "\n",
    "# Using Asterisk (*) for Unpacking\n",
    "# we can use the asterisk * to capture remaining elements during unpacking into a list.\n",
    "\n",
    "# Unpacking with an asterisk (*)\n",
    "\n",
    "packed_tuple = (1, 2, 3, 4, 5)\n",
    "a, *middle, e = packed_tuple\n",
    "print(a)      \n",
    "print(middle)  \n",
    "print(e)    \n",
    "\n"
   ]
  },
  {
   "cell_type": "markdown",
   "metadata": {},
   "source": [
    "### Nested Tuples\n",
    "\n",
    "- A nested tuple is a tuple that contains other tuples as its elements. This allows you to create complex data structures."
   ]
  },
  {
   "cell_type": "code",
   "execution_count": null,
   "metadata": {},
   "outputs": [],
   "source": [
    "# Creating a nested tuple\n",
    "nested_tuple = (1, (2, 3), (4, 5, 6))\n",
    "\n",
    "# Accessing elements in a nested tuple\n",
    "print(nested_tuple[0])    \n",
    "print(nested_tuple[1])    \n",
    "print(nested_tuple[1][1])  \n",
    "print(nested_tuple[2][2]) \n",
    "\n",
    "\n",
    "# Iterating Through Nested Tuples\n",
    "\n",
    "\n",
    "nested_tuple = (1, (2, 3), (4, 5, 6))\n",
    "\n",
    "for element in nested_tuple:\n",
    "    if isinstance(element, tuple):\n",
    "        for sub_element in element:\n",
    "            print(sub_element)\n",
    "    else:\n",
    "        print(element)\n",
    "\n"
   ]
  }
 ],
 "metadata": {
  "language_info": {
   "name": "python"
  }
 },
 "nbformat": 4,
 "nbformat_minor": 2
}
