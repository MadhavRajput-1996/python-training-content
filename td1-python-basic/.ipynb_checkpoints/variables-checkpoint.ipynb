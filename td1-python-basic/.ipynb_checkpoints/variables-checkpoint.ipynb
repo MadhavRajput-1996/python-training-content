{
 "cells": [
  {
   "cell_type": "code",
   "execution_count": null,
   "metadata": {},
   "outputs": [],
   "source": [
    "In Python, variables are used to store data that can be manipulated and referenced throughout a program. Each variable has a name (identifier) and can store a value of a specific type. Python is dynamically typed, meaning you don't need to declare the type of a variable when you create it; the type is inferred from the value assigned to it."
   ]
  },
  {
   "cell_type": "code",
   "execution_count": 2,
   "metadata": {},
   "outputs": [
    {
     "name": "stdout",
     "output_type": "stream",
     "text": [
      "5 <class 'int'>\n"
     ]
    }
   ],
   "source": [
    "x = 5\n",
    "print(x, type(x))"
   ]
  },
  {
   "cell_type": "markdown",
   "metadata": {},
   "source": [
    "# Integer variables\n",
    "a = 5\n",
    "b = -10\n",
    "c = 0\n",
    "\n",
    "# Float variables\n",
    "d = 3.14\n",
    "e = -0.5\n",
    "f = 2.0\n",
    "\n",
    "# String variables\n",
    "g = \"Hello\"\n",
    "h = 'World'\n",
    "i = \"123\"\n",
    "\n",
    "# Boolean variables\n",
    "j = True\n",
    "k = False\n",
    "\n",
    "# List variables\n",
    "my_list = [1, 2, 3, 4, 5]\n",
    "fruits = ['apple', 'banana', 'cherry']\n",
    "\n",
    "# Tuple variables\n",
    "my_tuple = (1, 2, 3)\n",
    "coordinates = (0, 0, 1)\n",
    "\n",
    "# Dictionary variables\n",
    "person = {'name': 'John', 'age': 30, 'city': 'New York'}\n",
    "\n",
    "# Set variables\n",
    "my_set = {1, 2, 3, 4, 5}\n",
    "letters = {'a', 'b', 'c'}\n",
    "\n",
    "# Output all variables\n",
    "print(\"Integer variables:\", a, b, c)\n",
    "print(\"Float variables:\", d, e, f)\n",
    "print(\"String variables:\", g, h, i)\n",
    "print(\"Boolean variables:\", j, k)\n",
    "print(\"List variables:\", my_list, fruits)\n",
    "print(\"Tuple variables:\", my_tuple, coordinates)\n",
    "print(\"Dictionary variables:\", person)\n",
    "print(\"Set variables:\", my_set, letters)"
   ]
  },
  {
   "cell_type": "code",
   "execution_count": null,
   "metadata": {},
   "outputs": [],
   "source": []
  }
 ],
 "metadata": {
  "kernelspec": {
   "display_name": "Python 3 (ipykernel)",
   "language": "python",
   "name": "python3"
  },
  "language_info": {
   "codemirror_mode": {
    "name": "ipython",
    "version": 3
   },
   "file_extension": ".py",
   "mimetype": "text/x-python",
   "name": "python",
   "nbconvert_exporter": "python",
   "pygments_lexer": "ipython3",
   "version": "3.12.3"
  }
 },
 "nbformat": 4,
 "nbformat_minor": 4
}
